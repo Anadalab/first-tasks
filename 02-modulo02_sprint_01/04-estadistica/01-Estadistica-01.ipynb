{
 "cells": [
  {
   "cell_type": "markdown",
   "metadata": {},
   "source": [
    "### Pair Programming Estadística I"
   ]
  },
  {
   "cell_type": "code",
   "execution_count": 2,
   "metadata": {},
   "outputs": [],
   "source": [
    "# Importamos las librerías:\n",
    "\n",
    "import numpy as np\n",
    "from scipy import stats\n",
    "import pandas as pd\n",
    "import matplotlib.pyplot as plt"
   ]
  },
  {
   "cell_type": "code",
   "execution_count": 3,
   "metadata": {},
   "outputs": [
    {
     "data": {
      "text/html": [
       "<div>\n",
       "<style scoped>\n",
       "    .dataframe tbody tr th:only-of-type {\n",
       "        vertical-align: middle;\n",
       "    }\n",
       "\n",
       "    .dataframe tbody tr th {\n",
       "        vertical-align: top;\n",
       "    }\n",
       "\n",
       "    .dataframe thead th {\n",
       "        text-align: right;\n",
       "    }\n",
       "</style>\n",
       "<table border=\"1\" class=\"dataframe\">\n",
       "  <thead>\n",
       "    <tr style=\"text-align: right;\">\n",
       "      <th></th>\n",
       "      <th>Poster_Link</th>\n",
       "      <th>Series_Title</th>\n",
       "      <th>Released_Year</th>\n",
       "      <th>Certificate</th>\n",
       "      <th>Runtime</th>\n",
       "      <th>Genre</th>\n",
       "      <th>IMDB_Rating</th>\n",
       "      <th>Overview</th>\n",
       "      <th>Meta_score</th>\n",
       "      <th>Director</th>\n",
       "      <th>Star1</th>\n",
       "      <th>Star2</th>\n",
       "      <th>Star3</th>\n",
       "      <th>Star4</th>\n",
       "      <th>No_of_Votes</th>\n",
       "      <th>Gross</th>\n",
       "    </tr>\n",
       "  </thead>\n",
       "  <tbody>\n",
       "    <tr>\n",
       "      <th>0</th>\n",
       "      <td>https://m.media-amazon.com/images/M/MV5BMDFkYT...</td>\n",
       "      <td>The Shawshank Redemption</td>\n",
       "      <td>1994</td>\n",
       "      <td>A</td>\n",
       "      <td>142 min</td>\n",
       "      <td>Drama</td>\n",
       "      <td>9.3</td>\n",
       "      <td>Two imprisoned men bond over a number of years...</td>\n",
       "      <td>80.0</td>\n",
       "      <td>Frank Darabont</td>\n",
       "      <td>Tim Robbins</td>\n",
       "      <td>Morgan Freeman</td>\n",
       "      <td>Bob Gunton</td>\n",
       "      <td>William Sadler</td>\n",
       "      <td>2343110</td>\n",
       "      <td>28,341,469</td>\n",
       "    </tr>\n",
       "    <tr>\n",
       "      <th>1</th>\n",
       "      <td>https://m.media-amazon.com/images/M/MV5BM2MyNj...</td>\n",
       "      <td>The Godfather</td>\n",
       "      <td>1972</td>\n",
       "      <td>A</td>\n",
       "      <td>175 min</td>\n",
       "      <td>Crime, Drama</td>\n",
       "      <td>9.2</td>\n",
       "      <td>An organized crime dynasty's aging patriarch t...</td>\n",
       "      <td>100.0</td>\n",
       "      <td>Francis Ford Coppola</td>\n",
       "      <td>Marlon Brando</td>\n",
       "      <td>Al Pacino</td>\n",
       "      <td>James Caan</td>\n",
       "      <td>Diane Keaton</td>\n",
       "      <td>1620367</td>\n",
       "      <td>134,966,411</td>\n",
       "    </tr>\n",
       "  </tbody>\n",
       "</table>\n",
       "</div>"
      ],
      "text/plain": [
       "                                         Poster_Link  \\\n",
       "0  https://m.media-amazon.com/images/M/MV5BMDFkYT...   \n",
       "1  https://m.media-amazon.com/images/M/MV5BM2MyNj...   \n",
       "\n",
       "               Series_Title Released_Year Certificate  Runtime         Genre  \\\n",
       "0  The Shawshank Redemption          1994           A  142 min         Drama   \n",
       "1             The Godfather          1972           A  175 min  Crime, Drama   \n",
       "\n",
       "   IMDB_Rating                                           Overview  Meta_score  \\\n",
       "0          9.3  Two imprisoned men bond over a number of years...        80.0   \n",
       "1          9.2  An organized crime dynasty's aging patriarch t...       100.0   \n",
       "\n",
       "               Director          Star1           Star2       Star3  \\\n",
       "0        Frank Darabont    Tim Robbins  Morgan Freeman  Bob Gunton   \n",
       "1  Francis Ford Coppola  Marlon Brando       Al Pacino  James Caan   \n",
       "\n",
       "            Star4  No_of_Votes        Gross  \n",
       "0  William Sadler      2343110   28,341,469  \n",
       "1    Diane Keaton      1620367  134,966,411  "
      ]
     },
     "execution_count": 3,
     "metadata": {},
     "output_type": "execute_result"
    }
   ],
   "source": [
    "df_csv = pd.read_csv(\"01-imdb_top_1000.csv\" )\n",
    "df_csv.head(2)"
   ]
  },
  {
   "cell_type": "code",
   "execution_count": 4,
   "metadata": {},
   "outputs": [
    {
     "name": "stdout",
     "output_type": "stream",
     "text": [
      "<class 'pandas.core.frame.DataFrame'>\n",
      "RangeIndex: 1000 entries, 0 to 999\n",
      "Data columns (total 16 columns):\n",
      " #   Column         Non-Null Count  Dtype  \n",
      "---  ------         --------------  -----  \n",
      " 0   Poster_Link    1000 non-null   object \n",
      " 1   Series_Title   1000 non-null   object \n",
      " 2   Released_Year  1000 non-null   object \n",
      " 3   Certificate    899 non-null    object \n",
      " 4   Runtime        1000 non-null   object \n",
      " 5   Genre          1000 non-null   object \n",
      " 6   IMDB_Rating    1000 non-null   float64\n",
      " 7   Overview       1000 non-null   object \n",
      " 8   Meta_score     843 non-null    float64\n",
      " 9   Director       1000 non-null   object \n",
      " 10  Star1          1000 non-null   object \n",
      " 11  Star2          1000 non-null   object \n",
      " 12  Star3          1000 non-null   object \n",
      " 13  Star4          1000 non-null   object \n",
      " 14  No_of_Votes    1000 non-null   int64  \n",
      " 15  Gross          831 non-null    object \n",
      "dtypes: float64(2), int64(1), object(13)\n",
      "memory usage: 125.1+ KB\n"
     ]
    }
   ],
   "source": [
    "df_csv.info()"
   ]
  },
  {
   "cell_type": "code",
   "execution_count": 5,
   "metadata": {},
   "outputs": [
    {
     "data": {
      "text/plain": [
       "(1000, 16)"
      ]
     },
     "execution_count": 5,
     "metadata": {},
     "output_type": "execute_result"
    }
   ],
   "source": [
    "df_csv.shape"
   ]
  },
  {
   "cell_type": "code",
   "execution_count": 6,
   "metadata": {},
   "outputs": [
    {
     "data": {
      "text/html": [
       "<div>\n",
       "<style scoped>\n",
       "    .dataframe tbody tr th:only-of-type {\n",
       "        vertical-align: middle;\n",
       "    }\n",
       "\n",
       "    .dataframe tbody tr th {\n",
       "        vertical-align: top;\n",
       "    }\n",
       "\n",
       "    .dataframe thead th {\n",
       "        text-align: right;\n",
       "    }\n",
       "</style>\n",
       "<table border=\"1\" class=\"dataframe\">\n",
       "  <thead>\n",
       "    <tr style=\"text-align: right;\">\n",
       "      <th></th>\n",
       "      <th>IMDB_Rating</th>\n",
       "      <th>Meta_score</th>\n",
       "      <th>No_of_Votes</th>\n",
       "    </tr>\n",
       "  </thead>\n",
       "  <tbody>\n",
       "    <tr>\n",
       "      <th>count</th>\n",
       "      <td>1000.000000</td>\n",
       "      <td>843.000000</td>\n",
       "      <td>1.000000e+03</td>\n",
       "    </tr>\n",
       "    <tr>\n",
       "      <th>mean</th>\n",
       "      <td>7.949300</td>\n",
       "      <td>77.971530</td>\n",
       "      <td>2.736929e+05</td>\n",
       "    </tr>\n",
       "    <tr>\n",
       "      <th>std</th>\n",
       "      <td>0.275491</td>\n",
       "      <td>12.376099</td>\n",
       "      <td>3.273727e+05</td>\n",
       "    </tr>\n",
       "    <tr>\n",
       "      <th>min</th>\n",
       "      <td>7.600000</td>\n",
       "      <td>28.000000</td>\n",
       "      <td>2.508800e+04</td>\n",
       "    </tr>\n",
       "    <tr>\n",
       "      <th>25%</th>\n",
       "      <td>7.700000</td>\n",
       "      <td>70.000000</td>\n",
       "      <td>5.552625e+04</td>\n",
       "    </tr>\n",
       "    <tr>\n",
       "      <th>50%</th>\n",
       "      <td>7.900000</td>\n",
       "      <td>79.000000</td>\n",
       "      <td>1.385485e+05</td>\n",
       "    </tr>\n",
       "    <tr>\n",
       "      <th>75%</th>\n",
       "      <td>8.100000</td>\n",
       "      <td>87.000000</td>\n",
       "      <td>3.741612e+05</td>\n",
       "    </tr>\n",
       "    <tr>\n",
       "      <th>max</th>\n",
       "      <td>9.300000</td>\n",
       "      <td>100.000000</td>\n",
       "      <td>2.343110e+06</td>\n",
       "    </tr>\n",
       "  </tbody>\n",
       "</table>\n",
       "</div>"
      ],
      "text/plain": [
       "       IMDB_Rating  Meta_score   No_of_Votes\n",
       "count  1000.000000  843.000000  1.000000e+03\n",
       "mean      7.949300   77.971530  2.736929e+05\n",
       "std       0.275491   12.376099  3.273727e+05\n",
       "min       7.600000   28.000000  2.508800e+04\n",
       "25%       7.700000   70.000000  5.552625e+04\n",
       "50%       7.900000   79.000000  1.385485e+05\n",
       "75%       8.100000   87.000000  3.741612e+05\n",
       "max       9.300000  100.000000  2.343110e+06"
      ]
     },
     "execution_count": 6,
     "metadata": {},
     "output_type": "execute_result"
    }
   ],
   "source": [
    "df_csv.describe()"
   ]
  },
  {
   "cell_type": "code",
   "execution_count": 7,
   "metadata": {},
   "outputs": [
    {
     "data": {
      "text/plain": [
       "array([2343110, 1620367, 2303232, 1129952,  689845, 1642758, 1826188,\n",
       "       1213505, 2067042, 1854740, 1661481, 1809221,  688390, 1485555,\n",
       "       1676426, 1020727, 1159315,  918088,   55291,  552778,   54995,\n",
       "       1512360,  699256,  651376, 1235804, 1147794,  623629, 1445096,\n",
       "       1270197, 1231473,   42004,  315744,  405801,  939252,  717585,\n",
       "        760360, 1190259, 1189773,  729603, 1341460, 1034705,  991208,\n",
       "       1035236,  942045,  995506,  230763,  235231, 1058081,  302844,\n",
       "        604211,  522093,  217881,  167839,   62635,   34112,   28401,\n",
       "        194838,  156479,  375110,  809955,  834477,  384171, 1357682,\n",
       "       1516346,  344445,  168895,  999790,  358685,  515451, 1125712,\n",
       "        343171,  311365,  884112,  898237,  606398,  787806,   30273,\n",
       "         34357,  450474,  108862,  178092,  444074,  201632,  203150,\n",
       "        425844,   27793,   71875,   30722,  281623,  220002,  150023,\n",
       "         33935,   78925, 1267869,  911664,  703810,  782001,  766870,\n",
       "       1069738,  861606,   65341,  887429,  959181,  918562,  675146,\n",
       "         59056,  652719,  369007,  740911,  950470,  231855,  724636,\n",
       "        241513,  757904,  603517,  232772,  268085,  164363,  299198,\n",
       "        364368,  218957,   68463,  146427,  143525,  403351,  143434,\n",
       "        159992,  113314,   33893,   43444,   36680,  377884,  432610,\n",
       "         31142,   75348,  104761,   70367,   60701,   40382,   61137,\n",
       "         82365,   42341,   33237,  193217,  435950, 1129894,  935507,\n",
       "       1187498,   74129,  517359,  618623,  757032, 1032749,  111937,\n",
       "         33354, 1308302,   83005,  331308,  333915,  848920,   57057,\n",
       "        535216,  531967,   64118,  577113,  466276,   49300,  375935,\n",
       "        692366,   26402,  291180,  793164,  112505,  321860,  116945,\n",
       "         26875,   43885,   51284,  500875,  224730,  293811,  111244,\n",
       "         69458,  243943,   96381,  164939,   28810,  158335,   53153,\n",
       "        152572,  120539,  114304,   29915,  101053,   41985,   63134,\n",
       "         39216,   47708,  141516,  113649,   50700,   50445,  647884,\n",
       "        371538,  177059,  159171,   46547,  163061,   51739,  707630,\n",
       "        859695,   38803,  435928,  616228,   75721,  640533,  432811,\n",
       "        291289,  420316,   51679,   57806,   67927,  601149,  882316,\n",
       "         73891,  720450,  764493,   48582,  253575,  164462,  666773,\n",
       "        572921,  856916,   43137,  635975,  334320,   37820,  236311,\n",
       "         73992,  139558,   66803, 1000639,  949565,  832846,  223741,\n",
       "        815505,   38847,  105036,  911573,   59020,  939631,   50862,\n",
       "        732620,  124383,  634716,  617444,   55220,  150345,   63516,\n",
       "        272291,   90729,   63122,  867615,  156842,   25088,   29662,\n",
       "        425457,  363401,  381222,   91188,  150924,  371271,   76081,\n",
       "         31595,   57784,  693827,  220078,  367250,  311361,  518546,\n",
       "        144911,  149843,   40081,  294230,   42285,   30206,   81021,\n",
       "         45434,  161984,  103191,   46947,   53089,   29682,   50058,\n",
       "         33044,   68827,   31728,   26697,   27254,  105291,  219466,\n",
       "         34797,   42940,   46678,  203463,  142107,   54588,   31568,\n",
       "         29807,  158731,   30935,   28450,  123942,  107017,  290074,\n",
       "         33829,   94016,   47676,   30205,   46865,   81156,   57428,\n",
       "         27978,   37556,   52897,   72245,   52848,  505918,  213970,\n",
       "        760094,  434143,  102972,   38746,  141923,   31886,   51069,\n",
       "         81770,  114316,  685201, 1043455,  461823,  540772,  450349,\n",
       "        705589,  462252,   79200,  639603,  428521,  902669,   45803,\n",
       "         28749,  211427,   98575,   31838,  798882,  699673,   98097,\n",
       "       1260806,   88656,  441614,  448930,  499439,  604694,   50610,\n",
       "        738512,  103284,   56960,  641645,  582239,  683900,   42399,\n",
       "         77520,   77554,  176151,   63460,  117857, 1015122,  415218,\n",
       "        657047,   45403,  137963,   33592,  740086,  289742,  102285,\n",
       "         82002,   58192,   78341,   36419,  172083,   27721,   86838,\n",
       "         37564,  578443,  129231,  300208,  577991,   28825,  263918,\n",
       "        373845,  142110,  417178,  240266,   89429,  473064,  164918,\n",
       "        393899,   64722,   31163,  150140,  799795,  217664,   32195,\n",
       "         65625,  251823,  543388,  235652,  143359,  121627,  362393,\n",
       "         44748,   42456,   39491,   27067,  201888,  193674,  165167,\n",
       "        253676,   68926,  205425,   69903,  198219,  108844,   28057,\n",
       "         75067,   66621,   56305,   59847,   98431,   45062,   28137,\n",
       "         81702,   81980,   58314,   61503,   51046,  127256,   99182,\n",
       "         26784,   34485,  129783,   32784,   35601,   42725,   57259,\n",
       "         65101,  148928,   85559,  371379,   26725,   26642,   57318,\n",
       "         53054,  454203,  111478,   62754,  246644,  212651,   53818,\n",
       "        139114,  111483,  189400,   85109,  587775,  466134,  297918,\n",
       "        594181,  860823,  141457,  659763,   41995,  230624,  600004,\n",
       "         93090,  324720,   93560,  335152,  205609,  638202,  289415,\n",
       "         47720,  335533,   56625,  577336,  390334,  174125,  154011,\n",
       "        107290,  580708,  199696,   31476,   57430,  939644,  512249,\n",
       "         51325,  419420,  552493,  173999,  104691,   44618,   42897,\n",
       "        508771,   49721,  465113,  252586,  322031,  527512,  239473,\n",
       "         51943,   31590,  206918,   89836,   34529,  201000,  447368,\n",
       "         68076,   54670,  281842,   67176,  187567,  128812,  132947,\n",
       "        183182,  131436,   28223,  111512,  103031,   37183,   39897,\n",
       "         38737,   52397,   70826,   93741,   77401,  116557,   29003,\n",
       "         67804,   68689,   71122,  124339,   26542,   28421,   63560,\n",
       "         80316,   40313,   97222,  123341,   52573,   41625,   92306,\n",
       "         78796,   33549,   63550,   53667,   47175,   30580,   78991,\n",
       "         42117,   88794,  237392,   25344,   27187,   51240,  555092,\n",
       "         57168,  200876,   61594,   27175,  118035,   40416,  246963,\n",
       "         35539,  556608,  663649,  517059,  143250,   50778,   51841,\n",
       "         45002,   81125,   50523,   39710,  410983,  303032,   33618,\n",
       "         73690,  203177,  108399,  318789,  305611,  362942,   35713,\n",
       "        111252,  423010,  421244,   62848,  179264,   52758,   58468,\n",
       "        601408,   68715,  208994,   89896,   33931,  340584,  564791,\n",
       "        190748,  110656,  757377,   30827,  251370,  571571,  392449,\n",
       "       1118998,  216421,  291018,  439856,  463466,  589160,   49050,\n",
       "         45717,  258924,   51980,   31658,  283310,  234207,   35682,\n",
       "        520284,   96703,   42673,   50622,   26518,  129022,   60684,\n",
       "        198089,  253228,   89058,  524235,  227143,  159886,   82855,\n",
       "        613941, 1046089,   27712,  280845,  345096,   62428,  164937,\n",
       "        215034,  126871,   78963,   66065,   34635,  267684,  128171,\n",
       "         43690,   46700,   55362,   42376,  126082,  184740,  125276,\n",
       "        124193,  122779,   45624,  481918,   88214,  371387,  148359,\n",
       "        321382,   47834,  244430,   78321,  357026,   51585,  355413,\n",
       "         56235,   88511,  372490,  133351,   52852,   65659,   44917,\n",
       "         98611,   25229,   37445,   66009,   48334,  178731,  101124,\n",
       "         27733,   39642,  102415,   86525,  158029,   52141,   37605,\n",
       "         27007,   73251,   28167,   36995,   31053,   59556,   43621,\n",
       "         47400,   55163,   43542,   55581,   25312,  140375,   25198,\n",
       "        478586,  205444,  492851,  291257,   47444,  157498,   32798,\n",
       "        404182,  590440,  344312,  123210,  580291,  138741,   32628,\n",
       "         39379,  736182,   39501,  112298,  380195,   56720,   77071,\n",
       "        388089,  323982,  769145,  463188,   73964,  624982,  645512,\n",
       "        717559,  630614,  661871,  572581,  472242,  479120,  125317,\n",
       "        103330,   71379,  239203,   81446,   60368,   28630,  115576,\n",
       "        474141,   32001,  175355,  466080,  299524,   28003,   61609,\n",
       "        405922,   72643,  323103,  288797,  419483,  127250,  434841,\n",
       "        358432,  138356,  415074,  548619,  329592,  197761,  400049,\n",
       "         25938,  137981,   40403,  142863,  178565,  364254,  246840,\n",
       "         90842,  126770,   31957,  516372,   29210,  286742,   29999,\n",
       "        192112,  241575,   66408,  390247,  169229,   64082,  312542,\n",
       "        275755,  434125,   37424,  279318,   51350,  189716,   35991,\n",
       "         32236,   26429,   33600,  211450,   42275,  224169,   50298,\n",
       "         85819,  150409,   77798,   95826,  235388,   66941,  113240,\n",
       "        125822,  182009,   33982,   40396,   94326,  115677,  102031,\n",
       "        181285,   47102,   59635,   39881,   36096,  112704,  226541,\n",
       "         47099,  214882,   27014,  233106,   39889,   36037,   26729,\n",
       "        125993,  109941,   96561,   98740,  110075,  143292,   51913,\n",
       "         31572,   67183,   40274,   31222,   48883,   35999,  174119,\n",
       "        171739,   26457,   31354,   87719,   27620,   44839,   83363,\n",
       "         26464,   59415,   34677,   76315,   71481,   27991,   88662,\n",
       "         30683,   60408,  140840,  551309,   29765,   95181,   46739,\n",
       "         99643,   66346,   52903,   35785,  569974,  439406,   58371,\n",
       "        287659,  250057,  272784,  371291,  247666,   49397,  204175,\n",
       "         94212,  411599,   57549,  190531,  228132,   80939,  334312,\n",
       "        311822,   38491,  500851,  315426,  524081,   63882,  369529,\n",
       "        138959,  520041,  102742,  583158,  293266,   41544,  286770,\n",
       "        227760,  255036,   31779,  339757,  250590,   82781,   72863,\n",
       "        354728,   49728,  474827,  732876,  206294,  500799,  294140,\n",
       "        379020,   83158,   65939,   67360,   70925,   67370,  224545,\n",
       "         62659,  198677,  169708,  451479,  376853,  169091,  266842,\n",
       "        115827,  658185,  337651,  240714,  243729,  508417,   91557,\n",
       "        490062,  188317,  172710,  256906,  259753,   65058,  187927,\n",
       "        186734,  131101,  102598,  364420,   90442,   73172,  269197,\n",
       "         64390,  171640,  165465,  107325,   27071,   80487,  488817,\n",
       "        359809,  195663,  237696,  152871,  124773,  236894,   87745,\n",
       "         27650,  166588,   93878,   32802,  121731,   33656,   73662,\n",
       "        184966,   26337,   30144,   45338,  166409,   56513,   40351,\n",
       "        166544,   34075,   43374,   26471,   51853])"
      ]
     },
     "execution_count": 7,
     "metadata": {},
     "output_type": "execute_result"
    }
   ],
   "source": [
    "votos = df_csv['No_of_Votes']\n",
    "votos.unique()"
   ]
  },
  {
   "attachments": {},
   "cell_type": "markdown",
   "metadata": {},
   "source": [
    "Empezamos una nueva lección, y este es el momento de poner en práctica los conocimientos adquiridos del Estadística Descriptiva básica.\n",
    "\n",
    "En este caso vamos a darle un giro de tuerca a la forma en la que se ha resuelto los ejercicios de la Pair de hasta ahora! \n",
    "\n",
    "Para ello os vamos a pedir que por vuestra cuenta busqueis un dataset que os guste, por ejemplo de Kaggle o de donde queráis extraerlo. \n",
    "\n",
    "De esta forma vamos a estudiar los diferentes estadísiticos que contiene en dataset seleccionado Para todas los ejercicios de pair programming de Estadística I, II y III usaremos el dataframe que se tome para el desarrollo de este ejercicio de pair programming."
   ]
  },
  {
   "attachments": {},
   "cell_type": "markdown",
   "metadata": {},
   "source": [
    "### Objetivos\n",
    "\n",
    "- Buscar un conjunto de datos a analizar.\n",
    "- Se recomienda que el conjunto de datos a analizar tenga variables numéricas y categóricas, ya que también se analizarán.\n",
    "\n",
    "Extraer los siguentes estadísticos del conjunto de datos para varias de las variables disponibles:\n",
    "\n",
    "- Media"
   ]
  },
  {
   "cell_type": "code",
   "execution_count": 8,
   "metadata": {},
   "outputs": [
    {
     "name": "stdout",
     "output_type": "stream",
     "text": [
      "La media de los votos es 273692.911.\n"
     ]
    }
   ],
   "source": [
    "media = np.mean(votos)\n",
    "print (f'La media de los votos es {media}.')"
   ]
  },
  {
   "attachments": {},
   "cell_type": "markdown",
   "metadata": {},
   "source": [
    "· Desviación con respecto de la media"
   ]
  },
  {
   "cell_type": "code",
   "execution_count": 9,
   "metadata": {},
   "outputs": [
    {
     "name": "stdout",
     "output_type": "stream",
     "text": [
      "La desviacion de la media es 0.0\n"
     ]
    }
   ],
   "source": [
    "media_votos = np.mean(votos)\n",
    "\n",
    "# Calculamos la diferencia respecto a la media para cada elemento de la matriz:\n",
    "\n",
    "desviacion_media = np.abs(media_votos-media)\n",
    "print (f'La desviacion de la media es {desviacion_media}')"
   ]
  },
  {
   "attachments": {},
   "cell_type": "markdown",
   "metadata": {},
   "source": [
    "Es 0 porque lo estamos haciendo sobre la misma columna."
   ]
  },
  {
   "attachments": {},
   "cell_type": "markdown",
   "metadata": {},
   "source": [
    "· Varianza"
   ]
  },
  {
   "cell_type": "code",
   "execution_count": 10,
   "metadata": {},
   "outputs": [
    {
     "name": "stdout",
     "output_type": "stream",
     "text": [
      "La varianza por columna es IMDB_Rating    7.581951e-02\n",
      "Meta_score     1.529861e+02\n",
      "No_of_Votes    1.070657e+11\n",
      "dtype: float64.\n"
     ]
    },
    {
     "name": "stderr",
     "output_type": "stream",
     "text": [
      "/home/analab/anaconda3/lib/python3.9/site-packages/numpy/core/fromnumeric.py:3700: FutureWarning: The default value of numeric_only in DataFrame.var is deprecated. In a future version, it will default to False. In addition, specifying 'numeric_only=None' is deprecated. Select only valid columns or specify the value of numeric_only to silence this warning.\n",
      "  return var(axis=axis, dtype=dtype, out=out, ddof=ddof, **kwargs)\n"
     ]
    }
   ],
   "source": [
    "varianza = np.var(df_csv, 0)\n",
    "print(f'La varianza por columna es {varianza}.')"
   ]
  },
  {
   "attachments": {},
   "cell_type": "markdown",
   "metadata": {},
   "source": [
    "· Desviación típica"
   ]
  },
  {
   "cell_type": "code",
   "execution_count": 11,
   "metadata": {},
   "outputs": [
    {
     "name": "stdout",
     "output_type": "stream",
     "text": [
      " La desviación tipica para todos los datos es IMDB_Rating         0.275353\n",
      "Meta_score         12.368757\n",
      "No_of_Votes    327208.976640\n",
      "dtype: float64.\n",
      " La desciación tipica para cada columna es IMDB_Rating         0.275353\n",
      "Meta_score         12.368757\n",
      "No_of_Votes    327208.976640\n",
      "dtype: float64.\n"
     ]
    },
    {
     "name": "stderr",
     "output_type": "stream",
     "text": [
      "/home/analab/anaconda3/lib/python3.9/site-packages/numpy/core/fromnumeric.py:3558: FutureWarning: The default value of numeric_only in DataFrame.std is deprecated. In a future version, it will default to False. In addition, specifying 'numeric_only=None' is deprecated. Select only valid columns or specify the value of numeric_only to silence this warning.\n",
      "  return std(axis=axis, dtype=dtype, out=out, ddof=ddof, **kwargs)\n"
     ]
    }
   ],
   "source": [
    "print(f' La desviación tipica para todos los datos es {np.std(df_csv)}.') \n",
    "print(f' La desciación tipica para cada columna es {np.std(df_csv, 0)}.') "
   ]
  },
  {
   "attachments": {},
   "cell_type": "markdown",
   "metadata": {},
   "source": [
    "· Moda"
   ]
  },
  {
   "cell_type": "code",
   "execution_count": 12,
   "metadata": {},
   "outputs": [
    {
     "name": "stdout",
     "output_type": "stream",
     "text": [
      "La moda y la frecuencia son (array([['https://m.media-amazon.com/images/M/MV5BZTM2NWI2OGYtYWNhMi00ZTlmLTg2ZTAtMmI5NWRjODA5YTE1XkEyXkFqcGdeQXVyODE2OTYwNTg@._V1_UX67_CR0,0,67,98_AL_.jpg',\n",
      "        'Drishyam', '2014', 'U', '100 min', 'Drama', 7.7,\n",
      "        \"Two Irish Catholic brothers become vigilantes and wipe out Boston's criminal underworld in the name of God.\",\n",
      "        76.0, 'Alfred Hitchcock', 'Tom Hanks', 'Emma Watson',\n",
      "        'Rupert Grint', 'Michael Caine', 65341, '4,360,000']],\n",
      "      dtype=object), array([[  1,   2,  32, 234,  23,  85, 157,   1,  32,  14,  12,   7,   5,\n",
      "          4,   2,   5]])).\n"
     ]
    }
   ],
   "source": [
    "moda, frecuencia = stats.mode(df_csv)\n",
    "print (f'La moda y la frecuencia son {moda, frecuencia}.')"
   ]
  },
  {
   "cell_type": "code",
   "execution_count": 13,
   "metadata": {},
   "outputs": [
    {
     "name": "stdout",
     "output_type": "stream",
     "text": [
      "La moda y la frecuencia para el numero de votos son (array([65341]), array([2])).\n"
     ]
    }
   ],
   "source": [
    "# como esto no se entiende vamos a calcular la moda  de una columna \n",
    "\n",
    "moda, frecuencia = stats.mode(votos)\n",
    "print (f'La moda y la frecuencia para el numero de votos son {moda, frecuencia}.')"
   ]
  },
  {
   "attachments": {},
   "cell_type": "markdown",
   "metadata": {},
   "source": [
    "· Mediana"
   ]
  },
  {
   "cell_type": "code",
   "execution_count": 14,
   "metadata": {},
   "outputs": [],
   "source": [
    "# Mediana, DA ERROR, no se puede calcular con str asique creamos un df solo con el numero de votos para poderla calcular.\n",
    "# print(f' La mediana para todos los datos es {np.median(df_csv)}') \n",
    "# print(f' La mediana para cada columna son {np.median(df_csv, 0)}') #lo mismo que el anterior"
   ]
  },
  {
   "cell_type": "code",
   "execution_count": 15,
   "metadata": {},
   "outputs": [
    {
     "name": "stdout",
     "output_type": "stream",
     "text": [
      " La mediana para la columna numero de votos es 138548.5\n"
     ]
    }
   ],
   "source": [
    "mediana = np.median(votos)\n",
    "print(f' La mediana para la columna numero de votos es {mediana}')"
   ]
  },
  {
   "attachments": {},
   "cell_type": "markdown",
   "metadata": {},
   "source": [
    "· Media ponderada"
   ]
  },
  {
   "cell_type": "code",
   "execution_count": 16,
   "metadata": {},
   "outputs": [
    {
     "name": "stdout",
     "output_type": "stream",
     "text": [
      " La media ponderada para la columna numero de votos es (273692.911+0j)\n"
     ]
    }
   ],
   "source": [
    "w = np.ones (len(votos), dtype = np.complex64)# le damos el mismo peso a todos los datos\n",
    "# Calculamos la media ponderada usando el método average() de Numpy\n",
    "avg = np.average(votos, weights= w)\n",
    "print(f' La media ponderada para la columna numero de votos es {avg}')"
   ]
  },
  {
   "cell_type": "markdown",
   "metadata": {},
   "source": [
    "· Robustez"
   ]
  },
  {
   "cell_type": "code",
   "execution_count": 19,
   "metadata": {},
   "outputs": [
    {
     "name": "stdout",
     "output_type": "stream",
     "text": [
      "La desviación tipica para todos los datos IMDB_Rating         0.275353\n",
      "Meta_score         12.368757\n",
      "No_of_Votes    327208.976640\n",
      "dtype: float64\n",
      "El coeficiente de variación es  IMDB_Rating    0.034639\n",
      "Meta_score     0.158632\n",
      "No_of_Votes    1.195533\n",
      "dtype: float64\n"
     ]
    },
    {
     "name": "stderr",
     "output_type": "stream",
     "text": [
      "/home/analab/anaconda3/lib/python3.9/site-packages/numpy/core/fromnumeric.py:3558: FutureWarning: The default value of numeric_only in DataFrame.std is deprecated. In a future version, it will default to False. In addition, specifying 'numeric_only=None' is deprecated. Select only valid columns or specify the value of numeric_only to silence this warning.\n",
      "  return std(axis=axis, dtype=dtype, out=out, ddof=ddof, **kwargs)\n",
      "/home/analab/anaconda3/lib/python3.9/site-packages/numpy/core/fromnumeric.py:3417: FutureWarning: In a future version, DataFrame.mean(axis=None) will return a scalar mean over the entire DataFrame. To retain the old behavior, use 'frame.mean(axis=0)' or just 'frame.mean()'\n",
      "  return mean(axis=axis, dtype=dtype, out=out, **kwargs)\n",
      "/home/analab/anaconda3/lib/python3.9/site-packages/numpy/core/fromnumeric.py:3417: FutureWarning: The default value of numeric_only in DataFrame.mean is deprecated. In a future version, it will default to False. In addition, specifying 'numeric_only=None' is deprecated. Select only valid columns or specify the value of numeric_only to silence this warning.\n",
      "  return mean(axis=axis, dtype=dtype, out=out, **kwargs)\n"
     ]
    }
   ],
   "source": [
    "# Coeficiente de variación\n",
    "# print(f'La media para todos los datos {np.mean(df_csv)}') # media para todos los datos\n",
    "desviacion = np.std(df_csv)\n",
    "coeficiente = np.std(df_csv) / np.abs(np.mean(df_csv))\n",
    "print(f'La desviación tipica para todos los datos {desviacion}')  # desviación típica para todos los datos\n",
    "print(f'El coeficiente de variación es  {coeficiente}') # coeficiente de variación"
   ]
  },
  {
   "attachments": {},
   "cell_type": "markdown",
   "metadata": {},
   "source": [
    "· Resumen"
   ]
  },
  {
   "cell_type": "code",
   "execution_count": 20,
   "metadata": {},
   "outputs": [
    {
     "name": "stdout",
     "output_type": "stream",
     "text": [
      "La media de los votos es 273692.911\n",
      "---\n",
      "La desviacion de la media es 0.0\n",
      "---\n",
      "La varianza por columna es IMDB_Rating    7.581951e-02\n",
      "Meta_score     1.529861e+02\n",
      "No_of_Votes    1.070657e+11\n",
      "dtype: float64\n",
      "---\n",
      " La desviación tipica para todos los datos es IMDB_Rating         0.275353\n",
      "Meta_score         12.368757\n",
      "No_of_Votes    327208.976640\n",
      "dtype: float64\n",
      "---\n",
      " La desciación tipica para cada columna es 0.27535342743463326\n",
      "---\n",
      "La moda y la frecuencia son (array([65341]), array([2]))\n",
      "---\n",
      "La moda y la frecuencia para el numero de votos son (array([65341]), array([2]))\n",
      "---\n",
      " La mediana para la columna numero de votos es 138548.5\n",
      "---\n",
      " La media ponderada para la columna numero de votos es (273692.911+0j)\n",
      "---\n",
      "La desviación tipica para todos los datos IMDB_Rating         0.275353\n",
      "Meta_score         12.368757\n",
      "No_of_Votes    327208.976640\n",
      "dtype: float64\n",
      "---\n",
      "El coeficiente de variación es  IMDB_Rating    0.034639\n",
      "Meta_score     0.158632\n",
      "No_of_Votes    1.195533\n",
      "dtype: float64\n"
     ]
    },
    {
     "name": "stderr",
     "output_type": "stream",
     "text": [
      "/home/analab/anaconda3/lib/python3.9/site-packages/numpy/core/fromnumeric.py:3558: FutureWarning: The default value of numeric_only in DataFrame.std is deprecated. In a future version, it will default to False. In addition, specifying 'numeric_only=None' is deprecated. Select only valid columns or specify the value of numeric_only to silence this warning.\n",
      "  return std(axis=axis, dtype=dtype, out=out, ddof=ddof, **kwargs)\n"
     ]
    }
   ],
   "source": [
    "print (f'La media de los votos es {media}')\n",
    "print('---')\n",
    "print (f'La desviacion de la media es {desviacion_media}')\n",
    "print(\"---\")\n",
    "print(f'La varianza por columna es {varianza}')\n",
    "print('---')\n",
    "print(f' La desviación tipica para todos los datos es {np.std(df_csv)}') \n",
    "print('---')\n",
    "print(f' La desciación tipica para cada columna es {np.std(df_csv)[0]}') \n",
    "print('---')\n",
    "print (f'La moda y la frecuencia son {moda, frecuencia}')\n",
    "print(\"---\")\n",
    "print (f'La moda y la frecuencia para el numero de votos son {moda, frecuencia}')\n",
    "print('---')\n",
    "print(f' La mediana para la columna numero de votos es {mediana}')\n",
    "print('---')\n",
    "print(f' La media ponderada para la columna numero de votos es {avg}')\n",
    "print('---')\n",
    "print(f'La desviación tipica para todos los datos {desviacion}') \n",
    "print('---')\n",
    "print(f'El coeficiente de variación es  {coeficiente}')"
   ]
  },
  {
   "attachments": {},
   "cell_type": "markdown",
   "metadata": {},
   "source": [
    "### Interpretación de los resultados.\n"
   ]
  },
  {
   "attachments": {},
   "cell_type": "markdown",
   "metadata": {},
   "source": [
    "Son unos datos de dificil interpretación, podemos decir, poco sobre lo hayado en los resultados, la media, la moda sobre unos votos, es ambiguo, los votos si son datos correctos, que junto por ejemplo con alguna columna sobre la edad de los participantes o el genero, podria habernos dado algo mas de juego a la hora de extraer mas conclusiones, sobre los resultados obtenidos."
   ]
  }
 ],
 "metadata": {
  "kernelspec": {
   "display_name": "base",
   "language": "python",
   "name": "python3"
  },
  "language_info": {
   "codemirror_mode": {
    "name": "ipython",
    "version": 3
   },
   "file_extension": ".py",
   "mimetype": "text/x-python",
   "name": "python",
   "nbconvert_exporter": "python",
   "pygments_lexer": "ipython3",
   "version": "3.9.7 (default, Sep 16 2021, 13:09:58) \n[GCC 7.5.0]"
  },
  "orig_nbformat": 4,
  "vscode": {
   "interpreter": {
    "hash": "f8e782a3a92a384869fb83a8974812ed4d4d199ed3e8c8704ecd8a7536d7fad4"
   }
  }
 },
 "nbformat": 4,
 "nbformat_minor": 2
}
