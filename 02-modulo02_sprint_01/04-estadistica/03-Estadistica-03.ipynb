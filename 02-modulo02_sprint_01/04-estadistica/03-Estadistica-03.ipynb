{
 "cells": [
  {
   "cell_type": "code",
   "execution_count": 3,
   "metadata": {},
   "outputs": [],
   "source": [
    "import numpy as np\n",
    "from scipy import stats # importando scipy.stats\n",
    "import pandas as pd # importando pandas\n",
    "import matplotlib.pyplot as plt # importando matplotlib\n",
    "import seaborn as sns\n",
    "from scipy.stats import skew\n",
    "import scipy.stats as st"
   ]
  },
  {
   "attachments": {},
   "cell_type": "markdown",
   "metadata": {},
   "source": [
    "# Pair Programming Estadística III\n",
    "\n",
    "Vamos ahora a tomar de nuevo el conjunto de datos con el que \n",
    "estuvimos trabajando en los últimos días y vamos a continuar \n",
    "con el análisis de las estadísitcas de los contenidos del conjunto de datos.\n",
    "\n",
    "Para todas los ejercicios de pair programming de\n",
    "Estadística I, II y III usaremos el dataframe que \n",
    "se tome para el desarrollo de este ejercicio de pair programming.\n",
    "\n",
    "Se ruega a la hora de realizar la entrega que incluyais el conjunto de datos que hayais decidido emplear para estos ejercicios.\n",
    "\n",
    "# Objetivos\n",
    "Los objetivos de hoy son:\n",
    " Extraer los siguentes estadísiticos del conjunto de datos para varias de las varibles disponibles:"
   ]
  },
  {
   "attachments": {},
   "cell_type": "markdown",
   "metadata": {},
   "source": [
    "### Tabla de contingencia"
   ]
  },
  {
   "cell_type": "code",
   "execution_count": 4,
   "metadata": {},
   "outputs": [
    {
     "data": {
      "text/html": [
       "<div>\n",
       "<style scoped>\n",
       "    .dataframe tbody tr th:only-of-type {\n",
       "        vertical-align: middle;\n",
       "    }\n",
       "\n",
       "    .dataframe tbody tr th {\n",
       "        vertical-align: top;\n",
       "    }\n",
       "\n",
       "    .dataframe thead th {\n",
       "        text-align: right;\n",
       "    }\n",
       "</style>\n",
       "<table border=\"1\" class=\"dataframe\">\n",
       "  <thead>\n",
       "    <tr style=\"text-align: right;\">\n",
       "      <th></th>\n",
       "      <th>Poster_Link</th>\n",
       "      <th>Series_Title</th>\n",
       "      <th>Released_Year</th>\n",
       "      <th>Certificate</th>\n",
       "      <th>Runtime</th>\n",
       "      <th>Genre</th>\n",
       "      <th>IMDB_Rating</th>\n",
       "      <th>Overview</th>\n",
       "      <th>Meta_score</th>\n",
       "      <th>Director</th>\n",
       "      <th>Star1</th>\n",
       "      <th>Star2</th>\n",
       "      <th>Star3</th>\n",
       "      <th>Star4</th>\n",
       "      <th>No_of_Votes</th>\n",
       "      <th>Gross</th>\n",
       "    </tr>\n",
       "  </thead>\n",
       "  <tbody>\n",
       "    <tr>\n",
       "      <th>0</th>\n",
       "      <td>https://m.media-amazon.com/images/M/MV5BMDFkYT...</td>\n",
       "      <td>The Shawshank Redemption</td>\n",
       "      <td>1994</td>\n",
       "      <td>A</td>\n",
       "      <td>142 min</td>\n",
       "      <td>Drama</td>\n",
       "      <td>9.3</td>\n",
       "      <td>Two imprisoned men bond over a number of years...</td>\n",
       "      <td>80.0</td>\n",
       "      <td>Frank Darabont</td>\n",
       "      <td>Tim Robbins</td>\n",
       "      <td>Morgan Freeman</td>\n",
       "      <td>Bob Gunton</td>\n",
       "      <td>William Sadler</td>\n",
       "      <td>2343110</td>\n",
       "      <td>28,341,469</td>\n",
       "    </tr>\n",
       "    <tr>\n",
       "      <th>1</th>\n",
       "      <td>https://m.media-amazon.com/images/M/MV5BM2MyNj...</td>\n",
       "      <td>The Godfather</td>\n",
       "      <td>1972</td>\n",
       "      <td>A</td>\n",
       "      <td>175 min</td>\n",
       "      <td>Crime, Drama</td>\n",
       "      <td>9.2</td>\n",
       "      <td>An organized crime dynasty's aging patriarch t...</td>\n",
       "      <td>100.0</td>\n",
       "      <td>Francis Ford Coppola</td>\n",
       "      <td>Marlon Brando</td>\n",
       "      <td>Al Pacino</td>\n",
       "      <td>James Caan</td>\n",
       "      <td>Diane Keaton</td>\n",
       "      <td>1620367</td>\n",
       "      <td>134,966,411</td>\n",
       "    </tr>\n",
       "  </tbody>\n",
       "</table>\n",
       "</div>"
      ],
      "text/plain": [
       "                                         Poster_Link  \\\n",
       "0  https://m.media-amazon.com/images/M/MV5BMDFkYT...   \n",
       "1  https://m.media-amazon.com/images/M/MV5BM2MyNj...   \n",
       "\n",
       "               Series_Title Released_Year Certificate  Runtime         Genre  \\\n",
       "0  The Shawshank Redemption          1994           A  142 min         Drama   \n",
       "1             The Godfather          1972           A  175 min  Crime, Drama   \n",
       "\n",
       "   IMDB_Rating                                           Overview  Meta_score  \\\n",
       "0          9.3  Two imprisoned men bond over a number of years...        80.0   \n",
       "1          9.2  An organized crime dynasty's aging patriarch t...       100.0   \n",
       "\n",
       "               Director          Star1           Star2       Star3  \\\n",
       "0        Frank Darabont    Tim Robbins  Morgan Freeman  Bob Gunton   \n",
       "1  Francis Ford Coppola  Marlon Brando       Al Pacino  James Caan   \n",
       "\n",
       "            Star4  No_of_Votes        Gross  \n",
       "0  William Sadler      2343110   28,341,469  \n",
       "1    Diane Keaton      1620367  134,966,411  "
      ]
     },
     "execution_count": 4,
     "metadata": {},
     "output_type": "execute_result"
    }
   ],
   "source": [
    "df_csv = pd.read_csv(\"01-imdb_top_1000.csv\" )\n",
    "df_csv.head(2)"
   ]
  },
  {
   "cell_type": "code",
   "execution_count": 16,
   "metadata": {},
   "outputs": [
    {
     "name": "stdout",
     "output_type": "stream",
     "text": [
      "<class 'pandas.core.frame.DataFrame'>\n",
      "RangeIndex: 1000 entries, 0 to 999\n",
      "Data columns (total 18 columns):\n",
      " #   Column         Non-Null Count  Dtype   \n",
      "---  ------         --------------  -----   \n",
      " 0   Poster_Link    1000 non-null   object  \n",
      " 1   Series_Title   1000 non-null   object  \n",
      " 2   Released_Year  1000 non-null   object  \n",
      " 3   Certificate    899 non-null    object  \n",
      " 4   Runtime        1000 non-null   object  \n",
      " 5   Genre          1000 non-null   object  \n",
      " 6   IMDB_Rating    1000 non-null   float64 \n",
      " 7   Overview       1000 non-null   object  \n",
      " 8   Meta_score     843 non-null    float64 \n",
      " 9   Director       1000 non-null   object  \n",
      " 10  Star1          1000 non-null   object  \n",
      " 11  Star2          1000 non-null   object  \n",
      " 12  Star3          1000 non-null   object  \n",
      " 13  Star4          1000 non-null   object  \n",
      " 14  No_of_Votes    1000 non-null   int64   \n",
      " 15  Gross          831 non-null    object  \n",
      " 16  votos          1000 non-null   category\n",
      " 17  meta_score     843 non-null    category\n",
      "dtypes: category(2), float64(2), int64(1), object(13)\n",
      "memory usage: 138.3+ KB\n"
     ]
    }
   ],
   "source": [
    "df_csv.info()"
   ]
  },
  {
   "cell_type": "code",
   "execution_count": 5,
   "metadata": {},
   "outputs": [],
   "source": [
    "# cuantitativas\n",
    "votos = df_csv['No_of_Votes']\n",
    "meta = df_csv['Meta_score']\n",
    "imdb = df_csv['IMDB_Rating']\n",
    "anio = df_csv['Released_Year']"
   ]
  },
  {
   "cell_type": "code",
   "execution_count": 12,
   "metadata": {},
   "outputs": [],
   "source": [
    "#cualitativas\n",
    "genero = df_csv['Genre']\n",
    "certificado = df_csv['Certificate']\n",
    "director = df_csv['Director']"
   ]
  },
  {
   "cell_type": "code",
   "execution_count": 32,
   "metadata": {},
   "outputs": [
    {
     "name": "stdout",
     "output_type": "stream",
     "text": [
      "Genre        Action, Adventure  Action, Adventure, Comedy  \\\n",
      "Certificate                                                 \n",
      "16                           0                          0   \n",
      "A                            2                          1   \n",
      "Approved                     0                          0   \n",
      "G                            0                          0   \n",
      "GP                           0                          0   \n",
      "PG                           0                          0   \n",
      "PG-13                        0                          0   \n",
      "Passed                       0                          1   \n",
      "R                            0                          2   \n",
      "TV-14                        0                          0   \n",
      "TV-MA                        0                          0   \n",
      "TV-PG                        0                          0   \n",
      "U                            1                          2   \n",
      "U/A                          0                          0   \n",
      "UA                           2                          4   \n",
      "Unrated                      0                          0   \n",
      "\n",
      "Genre        Action, Adventure, Drama  Action, Adventure, Family  \\\n",
      "Certificate                                                        \n",
      "16                                  0                          0   \n",
      "A                                   2                          0   \n",
      "Approved                            0                          0   \n",
      "G                                   0                          0   \n",
      "GP                                  0                          0   \n",
      "PG                                  0                          0   \n",
      "PG-13                               1                          0   \n",
      "Passed                              1                          0   \n",
      "R                                   0                          0   \n",
      "TV-14                               0                          0   \n",
      "TV-MA                               0                          0   \n",
      "TV-PG                               0                          0   \n",
      "U                                   3                          0   \n",
      "U/A                                 0                          0   \n",
      "UA                                  6                          1   \n",
      "Unrated                             0                          0   \n",
      "\n",
      "Genre        Action, Adventure, Fantasy  Action, Adventure, History  \\\n",
      "Certificate                                                           \n",
      "16                                    0                           0   \n",
      "A                                     0                           0   \n",
      "Approved                              0                           0   \n",
      "G                                     0                           0   \n",
      "GP                                    0                           0   \n",
      "PG                                    0                           0   \n",
      "PG-13                                 0                           1   \n",
      "Passed                                0                           0   \n",
      "R                                     0                           0   \n",
      "TV-14                                 0                           0   \n",
      "TV-MA                                 0                           0   \n",
      "TV-PG                                 0                           0   \n",
      "U                                     1                           0   \n",
      "U/A                                   0                           0   \n",
      "UA                                    5                           0   \n",
      "Unrated                               0                           0   \n",
      "\n",
      "Genre        Action, Adventure, Horror  Action, Adventure, Mystery  \\\n",
      "Certificate                                                          \n",
      "16                                   0                           0   \n",
      "A                                    1                           0   \n",
      "Approved                             0                           0   \n",
      "G                                    0                           0   \n",
      "GP                                   0                           0   \n",
      "PG                                   0                           0   \n",
      "PG-13                                0                           1   \n",
      "Passed                               0                           0   \n",
      "R                                    0                           0   \n",
      "TV-14                                0                           0   \n",
      "TV-MA                                0                           0   \n",
      "TV-PG                                0                           0   \n",
      "U                                    0                           0   \n",
      "U/A                                  0                           0   \n",
      "UA                                   0                           0   \n",
      "Unrated                              0                           0   \n",
      "\n",
      "Genre        Action, Adventure, Romance  Action, Adventure, Sci-Fi  ...  \\\n",
      "Certificate                                                         ...   \n",
      "16                                    0                          0  ...   \n",
      "A                                     0                          2  ...   \n",
      "Approved                              0                          0  ...   \n",
      "G                                     0                          0  ...   \n",
      "GP                                    0                          0  ...   \n",
      "PG                                    1                          0  ...   \n",
      "PG-13                                 0                          1  ...   \n",
      "Passed                                0                          0  ...   \n",
      "R                                     0                          0  ...   \n",
      "TV-14                                 0                          0  ...   \n",
      "TV-MA                                 0                          0  ...   \n",
      "TV-PG                                 0                          0  ...   \n",
      "U                                     0                          3  ...   \n",
      "U/A                                   0                          0  ...   \n",
      "UA                                    0                         15  ...   \n",
      "Unrated                               0                          0  ...   \n",
      "\n",
      "Genre        Film-Noir, Thriller  Horror  Horror, Mystery, Sci-Fi  \\\n",
      "Certificate                                                         \n",
      "16                             0       0                        0   \n",
      "A                              0       2                        1   \n",
      "Approved                       0       0                        0   \n",
      "G                              0       0                        0   \n",
      "GP                             0       0                        0   \n",
      "PG                             1       0                        0   \n",
      "PG-13                          0       0                        0   \n",
      "Passed                         0       0                        0   \n",
      "R                              0       0                        0   \n",
      "TV-14                          0       0                        0   \n",
      "TV-MA                          0       0                        0   \n",
      "TV-PG                          0       0                        0   \n",
      "U                              0       0                        0   \n",
      "U/A                            0       0                        0   \n",
      "UA                             0       0                        0   \n",
      "Unrated                        0       0                        0   \n",
      "\n",
      "Genre        Horror, Mystery, Thriller  Horror, Sci-Fi  Horror, Thriller  \\\n",
      "Certificate                                                                \n",
      "16                                   0               0                 0   \n",
      "A                                    1               0                 1   \n",
      "Approved                             0               0                 0   \n",
      "G                                    0               0                 0   \n",
      "GP                                   0               0                 0   \n",
      "PG                                   0               0                 0   \n",
      "PG-13                                1               0                 0   \n",
      "Passed                               0               0                 0   \n",
      "R                                    1               1                 0   \n",
      "TV-14                                0               0                 0   \n",
      "TV-MA                                0               0                 0   \n",
      "TV-PG                                0               1                 0   \n",
      "U                                    0               0                 0   \n",
      "U/A                                  0               0                 0   \n",
      "UA                                   1               0                 0   \n",
      "Unrated                              0               0                 0   \n",
      "\n",
      "Genre        Mystery, Romance, Thriller  Mystery, Sci-Fi, Thriller  \\\n",
      "Certificate                                                          \n",
      "16                                    0                          0   \n",
      "A                                     1                          2   \n",
      "Approved                              0                          0   \n",
      "G                                     0                          0   \n",
      "GP                                    0                          0   \n",
      "PG                                    0                          0   \n",
      "PG-13                                 0                          0   \n",
      "Passed                                0                          0   \n",
      "R                                     0                          0   \n",
      "TV-14                                 0                          0   \n",
      "TV-MA                                 0                          0   \n",
      "TV-PG                                 0                          0   \n",
      "U                                     0                          0   \n",
      "U/A                                   0                          0   \n",
      "UA                                    0                          0   \n",
      "Unrated                               0                          0   \n",
      "\n",
      "Genre        Mystery, Thriller  Western  \n",
      "Certificate                              \n",
      "16                           0        0  \n",
      "A                            2        2  \n",
      "Approved                     0        0  \n",
      "G                            0        0  \n",
      "GP                           0        0  \n",
      "PG                           1        0  \n",
      "PG-13                        0        0  \n",
      "Passed                       0        0  \n",
      "R                            0        0  \n",
      "TV-14                        0        0  \n",
      "TV-MA                        0        0  \n",
      "TV-PG                        0        0  \n",
      "U                            1        2  \n",
      "U/A                          0        0  \n",
      "UA                           2        0  \n",
      "Unrated                      0        0  \n",
      "\n",
      "[16 rows x 191 columns]\n"
     ]
    }
   ],
   "source": [
    "votos_crosstab = pd.crosstab(certificado,genero)\n",
    "print(votos_crosstab)"
   ]
  },
  {
   "attachments": {},
   "cell_type": "markdown",
   "metadata": {},
   "source": [
    "### Coeficiente de correlación de las variables numéricas del dataset."
   ]
  },
  {
   "cell_type": "code",
   "execution_count": 28,
   "metadata": {},
   "outputs": [
    {
     "data": {
      "text/plain": [
       "array([[nan, nan],\n",
       "       [nan,  1.]])"
      ]
     },
     "execution_count": 28,
     "metadata": {},
     "output_type": "execute_result"
    }
   ],
   "source": [
    "df_cor = np.corrcoef(meta, imdb)\n",
    "df_cor"
   ]
  },
  {
   "attachments": {},
   "cell_type": "markdown",
   "metadata": {},
   "source": [
    "### Sesgos de alguna de las variables numéricas del dataset."
   ]
  },
  {
   "cell_type": "code",
   "execution_count": 29,
   "metadata": {},
   "outputs": [
    {
     "name": "stdout",
     "output_type": "stream",
     "text": [
      "2.2965591310736615\n"
     ]
    }
   ],
   "source": [
    "sesgo_votos = skew(votos)\n",
    "print(sesgo_votos)"
   ]
  },
  {
   "attachments": {},
   "cell_type": "markdown",
   "metadata": {},
   "source": [
    "### Intervalo de confianza de algunas de las variables numéricas del dataset."
   ]
  },
  {
   "cell_type": "code",
   "execution_count": 30,
   "metadata": {},
   "outputs": [
    {
     "name": "stdout",
     "output_type": "stream",
     "text": [
      "(246975.76748985777, 300410.0545101423)\n",
      "El intervalo de confianza de votos al 99% es 273692.911\n",
      "(7.9268169461659586, 7.97178305383404)\n",
      "El intervalo de confianza de imdb al 99% es 7.949299999999999\n"
     ]
    }
   ],
   "source": [
    "print(st.t.interval(alpha=0.99, df=len(votos)-1, loc=np.mean(votos), scale=st.sem(votos)))\n",
    "\n",
    "print(\"El intervalo de confianza de votos al 99% es\", np.mean(votos))\n",
    "\n",
    "print(st.t.interval(alpha=0.99, df=len(imdb)-1, loc=np.mean(imdb), scale=st.sem(imdb)))\n",
    "\n",
    "print(\"El intervalo de confianza de imdb al 99% es\", np.mean(imdb))\n"
   ]
  },
  {
   "attachments": {},
   "cell_type": "markdown",
   "metadata": {},
   "source": [
    "### Interpretación de los resultados.\n",
    "\n",
    "Ahora interpreta los resultados obtenidos de los diferentes estadísticos estudiados haciendo hincapié en aspectos interesantes de tus datos y explica lo mejor posible la naturaleza de los mismos.\n",
    "\n",
    "Datos obtenidos:\n",
    "\n",
    "- Tabla de contingencia: Es un tabla imposible hemso probado con todas las variables y salen muchisimas siempre, esta a sido la mas pequeña y tiene 191 columnas. Mirando la tabla podemos decir que :\n",
    "La mayoria de las peliculas de genero Sci-Fi tiene un certificado  UA.\n",
    "\n",
    "Los thriller obtienen diferentes certificados no suelen ser siempre los mismos suelen ser el A y el UA. \n",
    "\n",
    "Para los Western  lso certificados suelen ser A o U.\n",
    "\n",
    "- Coeficiente de correlación:\n",
    "\n",
    "array([[nan, nan],\n",
    "       [nan,  1.]])\n",
    "\n",
    "Aquí la correlación no existe.\n",
    "\n",
    "- Sesgo\n",
    "\n",
    "2.2965591310736615\n",
    "\n",
    "Al ser un sesgo positivo, nuetros datos estarían sesgados hacia la derecha, pero lo que realmente ocurre es que tenemos más películas de mayor metascore (las valoraciones son en decenas frente a IMDB que son unidades), no es que esté sesgada nuestra muestra, sino que es así.\n",
    "\n",
    "- Intervalos de confianza:\n",
    "\n",
    "    · Votos = 273692.911\n",
    "\n",
    "       (246975.76748985777, 300410.0545101423)\n",
    "\n",
    "    · IMDB = 7.949299999999\n",
    "\n",
    "       (7.9268169461659586, 7.97178305383404)\n",
    "\n",
    "Hemos elegido unos intervalos de confianza del 99% que quieren decir que según el número de votos lo más seguro es que estuviera entre 2046975 y 300410, ya que todos nuestros datos tienen números elevados.\n",
    "\n",
    "Para el IMDB, lo más seguro es si le otorgan una calificación a una nueva película que introdujéramos, lo más seguro es que estaría entre esos valores."
   ]
  }
 ],
 "metadata": {
  "kernelspec": {
   "display_name": "base",
   "language": "python",
   "name": "python3"
  },
  "language_info": {
   "codemirror_mode": {
    "name": "ipython",
    "version": 3
   },
   "file_extension": ".py",
   "mimetype": "text/x-python",
   "name": "python",
   "nbconvert_exporter": "python",
   "pygments_lexer": "ipython3",
   "version": "3.9.7"
  },
  "orig_nbformat": 4,
  "vscode": {
   "interpreter": {
    "hash": "f8e782a3a92a384869fb83a8974812ed4d4d199ed3e8c8704ecd8a7536d7fad4"
   }
  }
 },
 "nbformat": 4,
 "nbformat_minor": 2
}
