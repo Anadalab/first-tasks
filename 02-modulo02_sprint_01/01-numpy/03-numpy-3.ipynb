{
 "cells": [
  {
   "attachments": {},
   "cell_type": "markdown",
   "metadata": {},
   "source": [
    "### Pair Programming Numpy III"
   ]
  },
  {
   "cell_type": "code",
   "execution_count": 1,
   "metadata": {},
   "outputs": [],
   "source": [
    "# Lo primero, importamos la librería:\n",
    "\n",
    "import numpy as np"
   ]
  },
  {
   "cell_type": "markdown",
   "metadata": {},
   "source": [
    "1. Cread un array de tres dimensiones de 2 matrices, 3 filas y 5 columnas cuyos valores solo tengan 1 decimal."
   ]
  },
  {
   "cell_type": "code",
   "execution_count": 2,
   "metadata": {},
   "outputs": [
    {
     "data": {
      "text/plain": [
       "array([[[0.6, 0.4, 0.5, 0. , 0.1],\n",
       "        [1. , 0.5, 0.9, 0.9, 0.2],\n",
       "        [0.4, 0.3, 0.5, 0.2, 0.6]],\n",
       "\n",
       "       [[0.2, 0.5, 0.8, 0.5, 1. ],\n",
       "        [0.2, 0.5, 0.2, 0.3, 0.8],\n",
       "        [0.4, 0.2, 0.1, 1. , 0.2]]])"
      ]
     },
     "execution_count": 2,
     "metadata": {},
     "output_type": "execute_result"
    }
   ],
   "source": [
    "array1 = np.random.rand(2, 3, 5).round(1)\n",
    "array1"
   ]
  },
  {
   "cell_type": "markdown",
   "metadata": {},
   "source": [
    "2. Calculad la media del array y almacenadlos en una variable:"
   ]
  },
  {
   "cell_type": "code",
   "execution_count": 3,
   "metadata": {},
   "outputs": [
    {
     "data": {
      "text/plain": [
       "0.4666666666666667"
      ]
     },
     "execution_count": 3,
     "metadata": {},
     "output_type": "execute_result"
    }
   ],
   "source": [
    "media_array1 = array1.mean()\n",
    "media_array1"
   ]
  },
  {
   "cell_type": "markdown",
   "metadata": {},
   "source": [
    "Redondead a un decimal."
   ]
  },
  {
   "cell_type": "code",
   "execution_count": 4,
   "metadata": {},
   "outputs": [
    {
     "data": {
      "text/plain": [
       "0.5"
      ]
     },
     "execution_count": 4,
     "metadata": {},
     "output_type": "execute_result"
    }
   ],
   "source": [
    "# Mostramos el proceso aunque ya redondeamos en la creación.\n",
    "\n",
    "media_array1_redondeada = np.round(media_array1, decimals = 1)\n",
    "media_array1_redondeada\n"
   ]
  },
  {
   "cell_type": "markdown",
   "metadata": {},
   "source": [
    "3. Calculad el valor máximo del array y almacenadlos en una variable."
   ]
  },
  {
   "cell_type": "code",
   "execution_count": 5,
   "metadata": {},
   "outputs": [
    {
     "name": "stdout",
     "output_type": "stream",
     "text": [
      "1.0\n",
      "1.0\n"
     ]
    }
   ],
   "source": [
    "# Usamos los dos métodos que conocemos:\n",
    "\n",
    "maximo_array12 = np.max(array1).round(1)\n",
    "print(maximo_array12)\n",
    "\n",
    "maximo_array1 = array1.max().round(1)\n",
    "print(maximo_array1)\n"
   ]
  },
  {
   "cell_type": "markdown",
   "metadata": {},
   "source": [
    "Redondead a un decimal."
   ]
  },
  {
   "cell_type": "code",
   "execution_count": 6,
   "metadata": {},
   "outputs": [
    {
     "data": {
      "text/plain": [
       "1.0"
      ]
     },
     "execution_count": 6,
     "metadata": {},
     "output_type": "execute_result"
    }
   ],
   "source": [
    "\n",
    "maximo_array1_redondeado = np.round(maximo_array1, decimals = 1)\n",
    "maximo_array1_redondeado\n"
   ]
  },
  {
   "cell_type": "markdown",
   "metadata": {},
   "source": [
    "4. Calculad el valor mínimo del array y almacenadlo en una variable."
   ]
  },
  {
   "cell_type": "code",
   "execution_count": 7,
   "metadata": {},
   "outputs": [
    {
     "data": {
      "text/plain": [
       "0.0"
      ]
     },
     "execution_count": 7,
     "metadata": {},
     "output_type": "execute_result"
    }
   ],
   "source": [
    "minimo_array1 = np.min(array1)\n",
    "minimo_array1"
   ]
  },
  {
   "cell_type": "markdown",
   "metadata": {},
   "source": [
    "5. Cread un array vacío con la misma forma y dimensiones que el array creado anteriormente."
   ]
  },
  {
   "cell_type": "code",
   "execution_count": 8,
   "metadata": {},
   "outputs": [
    {
     "data": {
      "text/plain": [
       "array([[['', '', '', '', ''],\n",
       "        ['', '', '', '', ''],\n",
       "        ['', '', '', '', '']],\n",
       "\n",
       "       [['', '', '', '', ''],\n",
       "        ['', '', '', '', ''],\n",
       "        ['', '', '', '', '']]], dtype='<U1')"
      ]
     },
     "execution_count": 8,
     "metadata": {},
     "output_type": "execute_result"
    }
   ],
   "source": [
    "array_vacio = np.empty_like(array1, dtype = str)\n",
    "array_vacio"
   ]
  },
  {
   "cell_type": "markdown",
   "metadata": {},
   "source": [
    "Vamos a reemplazar los valores de la matriz vacía que nos acabamos de crear pero basándonos en los valores del primer array bajo las siguientes condiciones:\n",
    "\n",
    "- Si el valor del array es igual que la media, se reemplaza por \"A\".\n",
    "- Si el valor del array es mayor que la media, se reemplaza por \"B\".\n",
    "- Si el valor del array es menor que la media, se reemplaza por \"C\".\n",
    "- Si el valor es igual que el máximo, se reemplaza por \"D\".\n",
    "- Si el valor es igual que el mínimo, se reemplaza por \"E\"."
   ]
  },
  {
   "cell_type": "code",
   "execution_count": 9,
   "metadata": {},
   "outputs": [
    {
     "name": "stdout",
     "output_type": "stream",
     "text": [
      "[[['B' 'C' 'B' 'C' 'C']\n",
      "  ['B' 'B' 'B' 'B' 'C']\n",
      "  ['C' 'C' 'B' 'C' 'B']]\n",
      "\n",
      " [['C' 'B' 'B' 'B' 'B']\n",
      "  ['C' 'B' 'C' 'C' 'B']\n",
      "  ['C' 'C' 'C' 'B' 'C']]]\n"
     ]
    }
   ],
   "source": [
    "for i in range(array1.shape[0]): \n",
    "    for j in range(array1.shape[1]): \n",
    "        for k in range (array1.shape[2]):\n",
    "            if array1[i][j][k] == media_array1:\n",
    "                array_vacio[i][j][k] = 'A'\n",
    "            elif array1[i][j][k] > media_array1:\n",
    "                array_vacio[i][j][k] = 'B'\n",
    "            elif array1[i][j][k] < media_array1:\n",
    "                array_vacio[i][j][k] = 'C'\n",
    "            elif array1[i][j][k] == maximo_array1:\n",
    "                array_vacio[i][j][k] = 'D'\n",
    "            elif array1[i][j][k] == minimo_array1:\n",
    "                array_vacio[i][j][k] = 'E'\n",
    "print(array_vacio)"
   ]
  },
  {
   "cell_type": "markdown",
   "metadata": {},
   "source": [
    "6. Estupendo, tenemos un array con strings. Ahora realizaremos un ejercicio similar al anterior, pero en este caso nos crearemos un array vacío unidimensional de 30 elementos."
   ]
  },
  {
   "cell_type": "code",
   "execution_count": 10,
   "metadata": {},
   "outputs": [
    {
     "data": {
      "text/plain": [
       "array(['', '', '', '', '', '', '', '', '', '', '', '', '', '', '', '', '',\n",
       "       '', '', '', '', '', '', '', '', '', '', '', '', ''], dtype='<U1')"
      ]
     },
     "execution_count": 10,
     "metadata": {},
     "output_type": "execute_result"
    }
   ],
   "source": [
    "array_uni = np.empty(30, dtype = str)\n",
    "array_uni"
   ]
  },
  {
   "cell_type": "markdown",
   "metadata": {},
   "source": [
    "Al final de este ejercicio acabaremos teniendo un array de tres dimensiones con la misma forma\n",
    "que el primero que nos creamos.\n",
    "\n",
    "En este caso:\n",
    "- Si el valor del array creado en el ejercicio anterior es \"A\" o \"B\" lo reemplazaremos por 1\n",
    "- Si el valor del array creado en el ejercicio anterior es \"C\" o \"D\" lo reemplazaremos por 2\n",
    "- Si el valor del array creado en el ejercicio anterior es \"E\" lo reemplazaremos por 3."
   ]
  },
  {
   "cell_type": "code",
   "execution_count": 11,
   "metadata": {},
   "outputs": [
    {
     "name": "stdout",
     "output_type": "stream",
     "text": [
      "['1' '2' '1' '2' '2' '1' '1' '1' '1' '2' '2' '2' '1' '2' '1' '2' '1' '1'\n",
      " '1' '1' '2' '1' '2' '2' '1' '2' '2' '2' '1' '2']\n"
     ]
    }
   ],
   "source": [
    "# Tenemos que usar un contador para cada if, para que cuando se cumpla me sume 1 y la siguiente iteración cuando vaya\n",
    "# a reemplazar en mi array de 30 elementos no me vaya siempre al 0 o al 1.\n",
    "# Iteramos por los índices del array de una sola dimensión.\n",
    "\n",
    "contador = 0\n",
    "\n",
    "for i in range(array1.shape[0]): \n",
    "    for j in range(array1.shape[1]): \n",
    "        for k in range (array1.shape[2]):\n",
    "            \n",
    "            if (array_vacio[i][j][k] == 'A') or (array_vacio[i][j][k] == 'B'):\n",
    "                array_uni[contador] = 1\n",
    "            elif (array_vacio[i][j][k] == 'C') or (array_vacio[i][j][k] == 'D'):\n",
    "                array_uni[contador] = 2\n",
    "            elif (array_vacio[i][j][k] == 'E'):\n",
    "                array_uni[contador] = 3\n",
    "\n",
    "            contador += 1  \n",
    "print(array_uni)"
   ]
  },
  {
   "cell_type": "markdown",
   "metadata": {},
   "source": [
    "Una vez que se hayan reemplazado todos los valores cambiad la forma del array  para que sea de tres dimensiones, con 2 matrices, 3 filas y 5 columnas."
   ]
  },
  {
   "cell_type": "code",
   "execution_count": 12,
   "metadata": {},
   "outputs": [
    {
     "data": {
      "text/plain": [
       "array(['1', '2', '1', '2', '2', '1', '1', '1', '1', '2', '2', '2', '1',\n",
       "       '2', '1', '2', '1', '1', '1', '1', '2', '1', '2', '2', '1', '2',\n",
       "       '2', '2', '1', '2'], dtype='<U1')"
      ]
     },
     "execution_count": 12,
     "metadata": {},
     "output_type": "execute_result"
    }
   ],
   "source": [
    "array_uni"
   ]
  },
  {
   "cell_type": "code",
   "execution_count": 13,
   "metadata": {},
   "outputs": [
    {
     "data": {
      "text/plain": [
       "array([[['1', '2', '1', '2', '2'],\n",
       "        ['1', '1', '1', '1', '2'],\n",
       "        ['2', '2', '1', '2', '1']],\n",
       "\n",
       "       [['2', '1', '1', '1', '1'],\n",
       "        ['2', '1', '2', '2', '1'],\n",
       "        ['2', '2', '2', '1', '2']]], dtype='<U1')"
      ]
     },
     "execution_count": 13,
     "metadata": {},
     "output_type": "execute_result"
    }
   ],
   "source": [
    "array_final = array_uni.reshape(2,3,5)\n",
    "array_final"
   ]
  }
 ],
 "metadata": {
  "kernelspec": {
   "display_name": "Python 3.9.7 ('base')",
   "language": "python",
   "name": "python3"
  },
  "language_info": {
   "codemirror_mode": {
    "name": "ipython",
    "version": 3
   },
   "file_extension": ".py",
   "mimetype": "text/x-python",
   "name": "python",
   "nbconvert_exporter": "python",
   "pygments_lexer": "ipython3",
   "version": "3.9.7"
  },
  "orig_nbformat": 4,
  "vscode": {
   "interpreter": {
    "hash": "0620710c65b0f5ccc651a2aa8870ae0eb4c70492424a8d7866846658189426a3"
   }
  }
 },
 "nbformat": 4,
 "nbformat_minor": 2
}
