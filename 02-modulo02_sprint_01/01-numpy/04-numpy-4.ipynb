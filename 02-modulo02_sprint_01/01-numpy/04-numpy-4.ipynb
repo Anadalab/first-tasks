{
 "cells": [
  {
   "attachments": {},
   "cell_type": "markdown",
   "metadata": {},
   "source": [
    "### Pair Programming Numpy IV "
   ]
  },
  {
   "cell_type": "code",
   "execution_count": 3,
   "metadata": {},
   "outputs": [],
   "source": [
    "\n",
    "# Lo primero, importamos la librería:\n",
    "\n",
    "import numpy as np "
   ]
  },
  {
   "cell_type": "markdown",
   "metadata": {},
   "source": [
    "1. ¿Cómo podemos crear dos arrays de dos dimensiones usando el método random_sample que tengan los mismos valores?"
   ]
  },
  {
   "cell_type": "code",
   "execution_count": 4,
   "metadata": {},
   "outputs": [
    {
     "data": {
      "text/plain": [
       "array([[0.37454012, 0.95071431, 0.73199394, 0.59865848, 0.15601864],\n",
       "       [0.15599452, 0.05808361, 0.86617615, 0.60111501, 0.70807258]])"
      ]
     },
     "execution_count": 4,
     "metadata": {},
     "output_type": "execute_result"
    }
   ],
   "source": [
    "# Usando el método random.seed():\n",
    "\n",
    "np.random.seed(42)\n",
    "\n",
    "arr1 = np.random.random_sample((2,5))\n",
    "arr1"
   ]
  },
  {
   "cell_type": "code",
   "execution_count": 5,
   "metadata": {},
   "outputs": [
    {
     "data": {
      "text/plain": [
       "array([[0.37454012, 0.95071431, 0.73199394, 0.59865848],\n",
       "       [0.15601864, 0.15599452, 0.05808361, 0.86617615]])"
      ]
     },
     "execution_count": 5,
     "metadata": {},
     "output_type": "execute_result"
    }
   ],
   "source": [
    "np.random.seed(42)\n",
    "\n",
    "arr2 = np.random.random_sample((2,4))\n",
    "arr2"
   ]
  },
  {
   "cell_type": "markdown",
   "metadata": {},
   "source": [
    "2. Cread los siguientes arrays:\n",
    "- Un array de tres dimensiones con distribución uniforme de 2 x 3 x 5, con números entre 0 y 10, que no tengan decimales y extrae sus valores únicos almacenándolos en una variable."
   ]
  },
  {
   "cell_type": "code",
   "execution_count": 6,
   "metadata": {},
   "outputs": [
    {
     "data": {
      "text/plain": [
       "array([[[3, 7, 7, 2, 5],\n",
       "        [4, 1, 7, 5, 1],\n",
       "        [4, 0, 9, 5, 8]],\n",
       "\n",
       "       [[0, 9, 2, 6, 3],\n",
       "        [8, 2, 4, 2, 6],\n",
       "        [4, 8, 6, 1, 3]]])"
      ]
     },
     "execution_count": 6,
     "metadata": {},
     "output_type": "execute_result"
    }
   ],
   "source": [
    "arr3 = np.random.randint(0,10,(2,3,5))\n",
    "arr3"
   ]
  },
  {
   "cell_type": "code",
   "execution_count": 7,
   "metadata": {},
   "outputs": [
    {
     "data": {
      "text/plain": [
       "array([[[8, 1, 9, 8, 9],\n",
       "        [4, 1, 3, 6, 7],\n",
       "        [2, 0, 3, 1, 7]],\n",
       "\n",
       "       [[3, 1, 5, 5, 9],\n",
       "        [3, 5, 1, 9, 1],\n",
       "        [9, 3, 7, 6, 8]]])"
      ]
     },
     "execution_count": 7,
     "metadata": {},
     "output_type": "execute_result"
    }
   ],
   "source": [
    "arr4 = np.random.randint(0,10,(2,3,5))\n",
    "arr4"
   ]
  },
  {
   "cell_type": "code",
   "execution_count": 8,
   "metadata": {},
   "outputs": [
    {
     "data": {
      "text/plain": [
       "array([0, 1, 2, 3, 4, 5, 6, 7, 8, 9])"
      ]
     },
     "execution_count": 8,
     "metadata": {},
     "output_type": "execute_result"
    }
   ],
   "source": [
    "valores_unicos1 = np.unique(arr4)\n",
    "valores_unicos1"
   ]
  },
  {
   "cell_type": "markdown",
   "metadata": {},
   "source": [
    "- Un array de tres dimensiones con distribución binomial de 2 x 3 x 5, con probabilidad de 0.3 y número de pruebas igual a 10. Igual que antes, extrae sus valores únicos y guarda los datos en una variable."
   ]
  },
  {
   "cell_type": "code",
   "execution_count": 9,
   "metadata": {},
   "outputs": [
    {
     "data": {
      "text/plain": [
       "array([[[6, 4, 4, 3, 3],\n",
       "        [6, 3, 2, 2, 2],\n",
       "        [0, 3, 3, 2, 0]],\n",
       "\n",
       "       [[2, 4, 4, 3, 5],\n",
       "        [4, 5, 5, 3, 1],\n",
       "        [2, 4, 4, 3, 2]]])"
      ]
     },
     "execution_count": 9,
     "metadata": {},
     "output_type": "execute_result"
    }
   ],
   "source": [
    "arr5 = np.random.binomial(10,0.3,size=(2,3,5))\n",
    "arr5"
   ]
  },
  {
   "cell_type": "code",
   "execution_count": 10,
   "metadata": {},
   "outputs": [
    {
     "data": {
      "text/plain": [
       "array([0, 1, 2, 3, 4, 5, 6])"
      ]
     },
     "execution_count": 10,
     "metadata": {},
     "output_type": "execute_result"
    }
   ],
   "source": [
    "valores_unicos2 = np.unique(arr5)\n",
    "valores_unicos2"
   ]
  },
  {
   "cell_type": "markdown",
   "metadata": {},
   "source": [
    "3. En esta lección hemos aprendido algunos métodos de teórias de conjuntos. Usando los arrays de elementos únicos obtenidos en el ejercicio anterior realizad las siguientes operaciones:\n",
    "\n",
    "- Elementos comunes entre los dos arrays"
   ]
  },
  {
   "cell_type": "code",
   "execution_count": 11,
   "metadata": {},
   "outputs": [
    {
     "name": "stdout",
     "output_type": "stream",
     "text": [
      "Esto son los elementos comunes que tienen ambos arrays: [0 1 2 3 4 5 6]\n"
     ]
    }
   ],
   "source": [
    "\n",
    "array_comun = np.intersect1d(valores_unicos1,valores_unicos2)\n",
    "array_comun\n",
    "\n",
    "print('Esto son los elementos comunes que tienen ambos arrays:', array_comun)"
   ]
  },
  {
   "cell_type": "markdown",
   "metadata": {},
   "source": [
    "- Unión de los dos arrays."
   ]
  },
  {
   "cell_type": "code",
   "execution_count": 12,
   "metadata": {},
   "outputs": [
    {
     "name": "stdout",
     "output_type": "stream",
     "text": [
      "Esta es la unión de elementos de ambos arrays: [0 1 2 3 4 5 6 7 8 9]\n"
     ]
    }
   ],
   "source": [
    "array_union=np.union1d(valores_unicos1,valores_unicos2)\n",
    "array_union\n",
    "\n",
    "print('Esta es la unión de elementos de ambos arrays:', array_union)"
   ]
  },
  {
   "cell_type": "markdown",
   "metadata": {},
   "source": [
    "\n",
    "- ¿Qué elementos están en el array derivado de la distribución uniforme y no en los únicos de la distribución binomial?"
   ]
  },
  {
   "cell_type": "code",
   "execution_count": 13,
   "metadata": {},
   "outputs": [
    {
     "name": "stdout",
     "output_type": "stream",
     "text": [
      "Estos son los elementos únicos de la distribución uniforme que no están en la distribución binomial: [7 8 9]\n"
     ]
    }
   ],
   "source": [
    "# ¿Qué elementos están en el array derivado de la distribución uniforme\n",
    "#  y no en los únicos de la distribución binomial?\n",
    "#  Extrae los valores númericos\n",
    "\n",
    "elementos_uniformes = np.setdiff1d(valores_unicos1, valores_unicos2)\n",
    "\n",
    "print('Estos son los elementos únicos de la distribución uniforme que no están en la distribución binomial:', elementos_uniformes)"
   ]
  },
  {
   "cell_type": "markdown",
   "metadata": {},
   "source": [
    "4. Cread dos arrays usando el método random.randint de Numpy con 80 elementos cada uno con números del 1-100, con los siguientes nombres array1 y array2."
   ]
  },
  {
   "cell_type": "code",
   "execution_count": 14,
   "metadata": {},
   "outputs": [],
   "source": [
    "array1 = np.random.randint(1, 100, (80))\n",
    "array2 = np.random.randint(1, 100, (80))"
   ]
  },
  {
   "cell_type": "code",
   "execution_count": 15,
   "metadata": {},
   "outputs": [
    {
     "data": {
      "text/plain": [
       "array([35, 65, 99, 47, 78,  3,  1,  5, 90, 14, 27,  9, 79, 15, 90, 42, 77,\n",
       "       51, 63, 96, 52, 96,  4, 94, 23, 15, 43, 29, 36, 13, 32, 71, 59, 86,\n",
       "       28, 66, 42, 45, 62, 57,  6, 28, 28, 44, 84, 30, 62, 75, 92, 89, 62,\n",
       "       97,  1, 27, 62, 77,  3, 70, 72, 27,  9, 62, 37, 97, 51, 44, 24, 79,\n",
       "       59, 32, 96, 88, 52, 62, 58, 52, 12, 39,  2,  3])"
      ]
     },
     "execution_count": 15,
     "metadata": {},
     "output_type": "execute_result"
    }
   ],
   "source": [
    "array1"
   ]
  },
  {
   "cell_type": "code",
   "execution_count": 16,
   "metadata": {},
   "outputs": [
    {
     "data": {
      "text/plain": [
       "array([56, 81, 59,  2,  2, 92, 54, 87, 96, 97,  1, 19,  2, 53, 44, 90, 32,\n",
       "       70, 32, 68, 55, 75, 56, 17, 38, 24, 69, 98, 70, 86, 11, 16, 97, 73,\n",
       "       59, 70, 80, 93,  3, 20, 59, 36, 19, 90, 67, 19, 20, 96, 71, 52, 33,\n",
       "       40, 39, 82,  1, 11, 92, 57, 89, 50, 23, 31, 94, 42, 99,  7, 16, 90,\n",
       "       60,  2,  1, 48, 12, 69, 37, 32,  9, 99, 19, 48])"
      ]
     },
     "execution_count": 16,
     "metadata": {},
     "output_type": "execute_result"
    }
   ],
   "source": [
    "array2"
   ]
  },
  {
   "cell_type": "markdown",
   "metadata": {},
   "source": [
    "\n",
    "Extraed los valores únicos de cada uno de los arrays y los guardáis en variables en las que se les llame array1 y array2."
   ]
  },
  {
   "cell_type": "code",
   "execution_count": 17,
   "metadata": {},
   "outputs": [],
   "source": [
    "array1_unicos = np.unique(array1)\n",
    "array2_unicos = np.unique(array2)"
   ]
  },
  {
   "cell_type": "markdown",
   "metadata": {},
   "source": [
    "\n",
    "Identificad los elementos presentes en el array1 pero no en el array2 y asiganarlo a una variable que se llame array3."
   ]
  },
  {
   "cell_type": "code",
   "execution_count": 18,
   "metadata": {},
   "outputs": [],
   "source": [
    "array3 = np.setdiff1d(array1, array2)"
   ]
  },
  {
   "cell_type": "markdown",
   "metadata": {},
   "source": [
    "\n",
    "\n",
    "Identificad los elementos presentes en el array2 pero no en el array1 y asiganarlo a una variable que se llame array4."
   ]
  },
  {
   "cell_type": "code",
   "execution_count": 19,
   "metadata": {},
   "outputs": [],
   "source": [
    "array4 = np.setdiff1d(array2, array1)\n"
   ]
  },
  {
   "cell_type": "markdown",
   "metadata": {},
   "source": [
    "Identificad los elementos presentes en ambos arrays y asiganarlos a una variable que se llame array5."
   ]
  },
  {
   "cell_type": "code",
   "execution_count": 20,
   "metadata": {},
   "outputs": [],
   "source": [
    "array5 = np.intersect1d(array1, array2)\n"
   ]
  },
  {
   "cell_type": "markdown",
   "metadata": {},
   "source": [
    "¿Cuál es la relación que existe entre todos estos arrays? \n",
    "\n",
    "💡 Pista 💡 Tendréis que usar las longitudes de cada uno de los arrays creados."
   ]
  },
  {
   "cell_type": "code",
   "execution_count": 21,
   "metadata": {},
   "outputs": [
    {
     "name": "stdout",
     "output_type": "stream",
     "text": [
      "80\n",
      "80\n",
      "26\n",
      "27\n",
      "27\n"
     ]
    }
   ],
   "source": [
    "print(array1.size)\n",
    "print(array2.size)\n",
    "print(array3.size)\n",
    "print(array4.size)\n",
    "print(array5.size)"
   ]
  },
  {
   "cell_type": "code",
   "execution_count": 22,
   "metadata": {},
   "outputs": [
    {
     "name": "stdout",
     "output_type": "stream",
     "text": [
      "Los dos primeros arrays son del mismo tamaño, 80. Los valores que están en array1 y no en array2 son 26, y al revés, son 27. De la misma manera, el total de elementos presentes en los dos arrays es de 27.\n"
     ]
    }
   ],
   "source": [
    "print('Los dos primeros arrays son del mismo tamaño, 80. Los valores que están en array1 y no en array2 son 26, y al revés, son 27. De la misma manera, el total de elementos presentes en los dos arrays es de 27.')"
   ]
  }
 ],
 "metadata": {
  "kernelspec": {
   "display_name": "Python 3.9.7 ('base')",
   "language": "python",
   "name": "python3"
  },
  "language_info": {
   "codemirror_mode": {
    "name": "ipython",
    "version": 3
   },
   "file_extension": ".py",
   "mimetype": "text/x-python",
   "name": "python",
   "nbconvert_exporter": "python",
   "pygments_lexer": "ipython3",
   "version": "3.9.7"
  },
  "orig_nbformat": 4,
  "vscode": {
   "interpreter": {
    "hash": "0620710c65b0f5ccc651a2aa8870ae0eb4c70492424a8d7866846658189426a3"
   }
  }
 },
 "nbformat": 4,
 "nbformat_minor": 2
}
