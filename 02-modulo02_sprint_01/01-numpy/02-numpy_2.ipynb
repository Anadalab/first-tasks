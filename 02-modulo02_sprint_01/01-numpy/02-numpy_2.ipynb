{
 "cells": [
  {
   "cell_type": "markdown",
   "metadata": {},
   "source": [
    "### Pair Programming Numpy II"
   ]
  },
  {
   "cell_type": "code",
   "execution_count": 2,
   "metadata": {},
   "outputs": [],
   "source": [
    "# Lo primero: importamos las librerías.\n",
    "\n",
    "import  numpy as np\n",
    "import pandas as pd"
   ]
  },
  {
   "cell_type": "markdown",
   "metadata": {},
   "source": [
    "1. Cread un array de dos dimensiones de 5 filas y 3 columnas. \n"
   ]
  },
  {
   "cell_type": "code",
   "execution_count": 3,
   "metadata": {},
   "outputs": [
    {
     "data": {
      "text/plain": [
       "array([[0.21480287, 0.67289624, 0.20656324],\n",
       "       [0.32336784, 0.30578764, 0.45697484],\n",
       "       [0.7823024 , 0.61097927, 0.21296122],\n",
       "       [0.72079068, 0.80794059, 0.01144151],\n",
       "       [0.91033859, 0.45065096, 0.89167763]])"
      ]
     },
     "execution_count": 3,
     "metadata": {},
     "output_type": "execute_result"
    }
   ],
   "source": [
    "bidimensional = np.random.rand (5,3)\n",
    "bidimensional"
   ]
  },
  {
   "cell_type": "markdown",
   "metadata": {},
   "source": [
    "Sobre el array creado anteriormente, extraed:\n",
    " - El valor de la primera fila y la segunda columna."
   ]
  },
  {
   "cell_type": "code",
   "execution_count": 4,
   "metadata": {},
   "outputs": [
    {
     "data": {
      "text/plain": [
       "0.6728962356192206"
      ]
     },
     "execution_count": 4,
     "metadata": {},
     "output_type": "execute_result"
    }
   ],
   "source": [
    "bidimensional[0,1]"
   ]
  },
  {
   "cell_type": "markdown",
   "metadata": {},
   "source": [
    "\n",
    "- Los valores de la segunda fila y las dos primeras columnas."
   ]
  },
  {
   "cell_type": "code",
   "execution_count": 5,
   "metadata": {},
   "outputs": [
    {
     "data": {
      "text/plain": [
       "array([0.32336784, 0.30578764])"
      ]
     },
     "execution_count": 5,
     "metadata": {},
     "output_type": "execute_result"
    }
   ],
   "source": [
    "bidimensional [1,:2]"
   ]
  },
  {
   "cell_type": "markdown",
   "metadata": {},
   "source": [
    "\n",
    "- Extraed las filas pares (incluyendo la 0) y todas las columnas."
   ]
  },
  {
   "cell_type": "code",
   "execution_count": 6,
   "metadata": {},
   "outputs": [
    {
     "data": {
      "text/plain": [
       "array([[0.21480287, 0.67289624, 0.20656324],\n",
       "       [0.7823024 , 0.61097927, 0.21296122],\n",
       "       [0.91033859, 0.45065096, 0.89167763]])"
      ]
     },
     "execution_count": 6,
     "metadata": {},
     "output_type": "execute_result"
    }
   ],
   "source": [
    "bidimensional[::2,:]"
   ]
  },
  {
   "cell_type": "markdown",
   "metadata": {},
   "source": [
    "\n",
    "- Extraed los valores que sean mayores que 0.5."
   ]
  },
  {
   "cell_type": "code",
   "execution_count": 7,
   "metadata": {},
   "outputs": [
    {
     "data": {
      "text/plain": [
       "array([0.67289624, 0.7823024 , 0.61097927, 0.72079068, 0.80794059,\n",
       "       0.91033859, 0.89167763])"
      ]
     },
     "execution_count": 7,
     "metadata": {},
     "output_type": "execute_result"
    }
   ],
   "source": [
    "bidimensional[bidimensional>0.5]"
   ]
  },
  {
   "cell_type": "markdown",
   "metadata": {},
   "source": [
    "\n",
    "- Extraed los valores menores que 0.2 o mayores que 0.5"
   ]
  },
  {
   "cell_type": "code",
   "execution_count": 8,
   "metadata": {},
   "outputs": [
    {
     "data": {
      "text/plain": [
       "array([0.67289624, 0.7823024 , 0.61097927, 0.72079068, 0.80794059,\n",
       "       0.01144151, 0.91033859, 0.89167763])"
      ]
     },
     "execution_count": 8,
     "metadata": {},
     "output_type": "execute_result"
    }
   ],
   "source": [
    "bidimensional [(bidimensional<0.2)|(bidimensional>0.5)]"
   ]
  },
  {
   "cell_type": "markdown",
   "metadata": {},
   "source": [
    "2. Cread dos arrays de tres dimensiones:\n",
    "- El primero de 2 matrices, 5 finales y 3 columnas.\n",
    "- El segundo de 3 matrices, 2 filas y 5 columnas."
   ]
  },
  {
   "cell_type": "code",
   "execution_count": 10,
   "metadata": {},
   "outputs": [],
   "source": [
    "array1 = np.random.rand(2,5,3)\n",
    "array2 = np.random.rand (3,2,5)"
   ]
  },
  {
   "cell_type": "code",
   "execution_count": 11,
   "metadata": {},
   "outputs": [
    {
     "data": {
      "text/plain": [
       "array([[[0.01656644, 0.85194266, 0.7849455 ],\n",
       "        [0.7781215 , 0.97485507, 0.69105209],\n",
       "        [0.94847179, 0.16045113, 0.39397175],\n",
       "        [0.64105929, 0.49325065, 0.08708293],\n",
       "        [0.21213305, 0.96361207, 0.16961332]],\n",
       "\n",
       "       [[0.23931295, 0.42889606, 0.45607471],\n",
       "        [0.28651911, 0.852748  , 0.3997521 ],\n",
       "        [0.16849063, 0.87434689, 0.94042724],\n",
       "        [0.35774075, 0.30123913, 0.98485311],\n",
       "        [0.72585076, 0.71568855, 0.89598957]]])"
      ]
     },
     "execution_count": 11,
     "metadata": {},
     "output_type": "execute_result"
    }
   ],
   "source": [
    "array1"
   ]
  },
  {
   "cell_type": "code",
   "execution_count": 12,
   "metadata": {},
   "outputs": [
    {
     "data": {
      "text/plain": [
       "array([[[0.15048806, 0.20599245, 0.33715315, 0.82377102, 0.11095997],\n",
       "        [0.47015386, 0.06810613, 0.14201011, 0.52174916, 0.98970043]],\n",
       "\n",
       "       [[0.87238611, 0.75315655, 0.09140296, 0.24151833, 0.56303923],\n",
       "        [0.20995391, 0.01464653, 0.75055477, 0.69646203, 0.26522291]],\n",
       "\n",
       "       [[0.55455573, 0.38987265, 0.53953379, 0.06168036, 0.23730326],\n",
       "        [0.19451443, 0.51795996, 0.07125187, 0.59276397, 0.64674816]]])"
      ]
     },
     "execution_count": 12,
     "metadata": {},
     "output_type": "execute_result"
    }
   ],
   "source": [
    "array2"
   ]
  },
  {
   "cell_type": "markdown",
   "metadata": {},
   "source": [
    "- Haced un análisis exploratorio de los arrays creados."
   ]
  },
  {
   "cell_type": "code",
   "execution_count": 13,
   "metadata": {},
   "outputs": [
    {
     "name": "stdout",
     "output_type": "stream",
     "text": [
      "La forma de nuestro array es (2, 5, 3)\n",
      "El tipo de nuestro array es float64\n",
      "El tamaño de nuestro array es 30\n",
      "Las dimensiones que tiene son 3\n"
     ]
    }
   ],
   "source": [
    "# Acudimos a la función creada en el ejercicio anterior:\n",
    "\n",
    "def propiedades(nuestro_array):\n",
    "    print(f'La forma de nuestro array es', nuestro_array.shape)\n",
    "    print(f'El tipo de nuestro array es', nuestro_array.dtype)\n",
    "    print(f'El tamaño de nuestro array es', nuestro_array.size)\n",
    "    print(f'Las dimensiones que tiene son', nuestro_array.ndim)\n",
    "\n",
    "propiedades(array1)"
   ]
  },
  {
   "cell_type": "code",
   "execution_count": 14,
   "metadata": {},
   "outputs": [
    {
     "name": "stdout",
     "output_type": "stream",
     "text": [
      "La forma de nuestro array es (3, 2, 5)\n",
      "El tipo de nuestro array es float64\n",
      "El tamaño de nuestro array es 30\n",
      "Las dimensiones que tiene son 3\n"
     ]
    }
   ],
   "source": [
    "propiedades (array2)"
   ]
  },
  {
   "cell_type": "markdown",
   "metadata": {},
   "source": [
    "Sumad los dos arrays. ¿Podéis? ¿Por qué?"
   ]
  },
  {
   "cell_type": "code",
   "execution_count": 15,
   "metadata": {},
   "outputs": [
    {
     "ename": "ValueError",
     "evalue": "operands could not be broadcast together with shapes (2,5,3) (3,2,5) ",
     "output_type": "error",
     "traceback": [
      "\u001b[0;31m---------------------------------------------------------------------------\u001b[0m",
      "\u001b[0;31mValueError\u001b[0m                                Traceback (most recent call last)",
      "\u001b[0;32m/tmp/ipykernel_11779/585290655.py\u001b[0m in \u001b[0;36m<module>\u001b[0;34m\u001b[0m\n\u001b[0;32m----> 1\u001b[0;31m \u001b[0marray1\u001b[0m \u001b[0;34m+\u001b[0m \u001b[0marray2\u001b[0m\u001b[0;34m\u001b[0m\u001b[0;34m\u001b[0m\u001b[0m\n\u001b[0m",
      "\u001b[0;31mValueError\u001b[0m: operands could not be broadcast together with shapes (2,5,3) (3,2,5) "
     ]
    }
   ],
   "source": [
    "array1 + array2"
   ]
  },
  {
   "cell_type": "code",
   "execution_count": 23,
   "metadata": {},
   "outputs": [
    {
     "name": "stdout",
     "output_type": "stream",
     "text": [
      "No se pueden sumar porque tienen formas diferentes.\n"
     ]
    }
   ],
   "source": [
    "print(\"No se pueden sumar porque tienen formas diferentes.\")"
   ]
  },
  {
   "cell_type": "code",
   "execution_count": 18,
   "metadata": {},
   "outputs": [
    {
     "data": {
      "text/plain": [
       "array([[[0.01656644, 0.85194266, 0.7849455 ],\n",
       "        [0.7781215 , 0.97485507, 0.69105209],\n",
       "        [0.94847179, 0.16045113, 0.39397175],\n",
       "        [0.64105929, 0.49325065, 0.08708293],\n",
       "        [0.21213305, 0.96361207, 0.16961332]],\n",
       "\n",
       "       [[0.23931295, 0.42889606, 0.45607471],\n",
       "        [0.28651911, 0.852748  , 0.3997521 ],\n",
       "        [0.16849063, 0.87434689, 0.94042724],\n",
       "        [0.35774075, 0.30123913, 0.98485311],\n",
       "        [0.72585076, 0.71568855, 0.89598957]]])"
      ]
     },
     "execution_count": 18,
     "metadata": {},
     "output_type": "execute_result"
    }
   ],
   "source": [
    "array1"
   ]
  },
  {
   "cell_type": "code",
   "execution_count": 19,
   "metadata": {},
   "outputs": [
    {
     "data": {
      "text/plain": [
       "array([[[0.15048806, 0.20599245, 0.33715315, 0.82377102, 0.11095997],\n",
       "        [0.47015386, 0.06810613, 0.14201011, 0.52174916, 0.98970043]],\n",
       "\n",
       "       [[0.87238611, 0.75315655, 0.09140296, 0.24151833, 0.56303923],\n",
       "        [0.20995391, 0.01464653, 0.75055477, 0.69646203, 0.26522291]],\n",
       "\n",
       "       [[0.55455573, 0.38987265, 0.53953379, 0.06168036, 0.23730326],\n",
       "        [0.19451443, 0.51795996, 0.07125187, 0.59276397, 0.64674816]]])"
      ]
     },
     "execution_count": 19,
     "metadata": {},
     "output_type": "execute_result"
    }
   ],
   "source": [
    "array2"
   ]
  },
  {
   "cell_type": "markdown",
   "metadata": {},
   "source": [
    "Para cambiar la forma de un array y poder hacer operaciones entre arrays que tienen distintas formas hemos aprendido dos métodos: .reshape() .transpose()\n",
    "\n",
    "Utiliza estas dos funciones para cambiar la forma de los array  y hacer operaciones entre ellos."
   ]
  },
  {
   "cell_type": "code",
   "execution_count": 20,
   "metadata": {},
   "outputs": [],
   "source": [
    "# Llamamos a los índices de cada array para utilizar los métodos:\n",
    "\n",
    "array_traspo = np.transpose(array1,(1,2,0))"
   ]
  },
  {
   "cell_type": "code",
   "execution_count": 21,
   "metadata": {},
   "outputs": [],
   "source": [
    "array_resha = np.reshape(array2, (5,3,2))"
   ]
  },
  {
   "cell_type": "code",
   "execution_count": 22,
   "metadata": {},
   "outputs": [
    {
     "data": {
      "text/plain": [
       "array([[[0.1670545 , 0.44530541],\n",
       "        [1.18909581, 1.25266707],\n",
       "        [0.89590547, 0.92622857]],\n",
       "\n",
       "       [[0.84622764, 0.42852922],\n",
       "        [1.49660423, 1.84244842],\n",
       "        [1.5634382 , 1.15290865]],\n",
       "\n",
       "       [[1.03987475, 0.41000896],\n",
       "        [0.72349036, 1.0843008 ],\n",
       "        [0.40861828, 1.69098201]],\n",
       "\n",
       "       [[1.33752132, 0.62296366],\n",
       "        [1.04780638, 0.69111179],\n",
       "        [0.62661672, 1.04653347]],\n",
       "\n",
       "       [[0.44943631, 0.92036519],\n",
       "        [1.48157204, 0.78694042],\n",
       "        [0.7623773 , 1.54273772]]])"
      ]
     },
     "execution_count": 22,
     "metadata": {},
     "output_type": "execute_result"
    }
   ],
   "source": [
    "array_traspo + array_resha"
   ]
  }
 ],
 "metadata": {
  "kernelspec": {
   "display_name": "Python 3.9.7 ('base')",
   "language": "python",
   "name": "python3"
  },
  "language_info": {
   "codemirror_mode": {
    "name": "ipython",
    "version": 3
   },
   "file_extension": ".py",
   "mimetype": "text/x-python",
   "name": "python",
   "nbconvert_exporter": "python",
   "pygments_lexer": "ipython3",
   "version": "3.9.7"
  },
  "orig_nbformat": 4,
  "vscode": {
   "interpreter": {
    "hash": "0620710c65b0f5ccc651a2aa8870ae0eb4c70492424a8d7866846658189426a3"
   }
  }
 },
 "nbformat": 4,
 "nbformat_minor": 2
}
