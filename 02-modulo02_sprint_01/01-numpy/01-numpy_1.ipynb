{
 "cells": [
  {
   "attachments": {},
   "cell_type": "markdown",
   "metadata": {},
   "source": [
    "### Pair Programming Numpy I"
   ]
  },
  {
   "attachments": {},
   "cell_type": "markdown",
   "metadata": {},
   "source": [
    "1. Cread tres arrays: de una, dos y tres dimensiones.\n",
    "\n",
    "    Lo podéis hacer usando los métodos de random que hemos aprendido o a través de listas en algunos casos. El array de 2 dimensiones debe ser de 2 filas y 3 columnas. El array de 3 dimensiones debe ser de 2 matrices, 3 filas y 5 columnas"
   ]
  },
  {
   "cell_type": "code",
   "execution_count": 29,
   "metadata": {},
   "outputs": [],
   "source": [
    "# Lo primero, importamos la librería:\n",
    "\n",
    "import numpy as np"
   ]
  },
  {
   "cell_type": "code",
   "execution_count": 30,
   "metadata": {},
   "outputs": [],
   "source": [
    "# Creamos los arrays según especificado:\n",
    "\n",
    "array1 = np.random.randint((2, 3))\n",
    "array2 = np.random.rand(3, 2)\n",
    "array3 = np.random.random_sample((2, 3, 5))"
   ]
  },
  {
   "cell_type": "code",
   "execution_count": 31,
   "metadata": {},
   "outputs": [
    {
     "name": "stdout",
     "output_type": "stream",
     "text": [
      "Las dimensiones del array1 son 1\n",
      "Las dimensiones del array2 son 2\n",
      "Las dimensiones del array3 son 3\n"
     ]
    }
   ],
   "source": [
    "# Comprobamos que las dimensiones son correctas:\n",
    "\n",
    "print('Las dimensiones del array1 son', array1.ndim)\n",
    "print('Las dimensiones del array2 son', array2.ndim)\n",
    "print('Las dimensiones del array3 son', array3.ndim)"
   ]
  },
  {
   "cell_type": "code",
   "execution_count": 32,
   "metadata": {},
   "outputs": [],
   "source": [
    "# Chequead las las propiedades básicas de cada array que os hayáis creado. Usad en una función que nos\n",
    "# devuelva las propiedades de una array que le pasemos."
   ]
  },
  {
   "cell_type": "markdown",
   "metadata": {},
   "source": [
    "2. Chequead las las propiedades básicas de cada array que os hayáis creado.\n",
    "\n",
    "    Usad en una función que nos devuelva las propiedades de una array que le pasemos."
   ]
  },
  {
   "cell_type": "code",
   "execution_count": 33,
   "metadata": {},
   "outputs": [],
   "source": [
    "# Creamos una función para acceder a ellas rápidamente:\n",
    "\n",
    "def propiedades(nuestro_array):\n",
    "    print(f'La forma de nuestro array es', nuestro_array.shape)\n",
    "    print(f'El tamaño de nuestro array es', nuestro_array.size)\n",
    "    print(f'La dimensión de nuestro array es', nuestro_array.ndim)\n",
    "    print(f'El tipo de nuestro array es', nuestro_array.dtype)"
   ]
  },
  {
   "cell_type": "code",
   "execution_count": 34,
   "metadata": {},
   "outputs": [
    {
     "name": "stdout",
     "output_type": "stream",
     "text": [
      "La forma de nuestro array es (2, 3, 5)\n",
      "El tamaño de nuestro array es 30\n",
      "La dimensión de nuestro array es 3\n",
      "El tipo de nuestro array es float64\n"
     ]
    }
   ],
   "source": [
    "propiedades(array3)"
   ]
  },
  {
   "cell_type": "code",
   "execution_count": 35,
   "metadata": {},
   "outputs": [
    {
     "name": "stdout",
     "output_type": "stream",
     "text": [
      "La forma de nuestro array es (3, 2)\n",
      "El tamaño de nuestro array es 6\n",
      "La dimensión de nuestro array es 2\n",
      "El tipo de nuestro array es float64\n"
     ]
    }
   ],
   "source": [
    "propiedades(array2)"
   ]
  },
  {
   "cell_type": "code",
   "execution_count": 36,
   "metadata": {},
   "outputs": [
    {
     "name": "stdout",
     "output_type": "stream",
     "text": [
      "La forma de nuestro array es (2,)\n",
      "El tamaño de nuestro array es 2\n",
      "La dimensión de nuestro array es 1\n",
      "El tipo de nuestro array es int64\n"
     ]
    }
   ],
   "source": [
    "propiedades(array1)"
   ]
  },
  {
   "cell_type": "markdown",
   "metadata": {},
   "source": [
    "3. Crear una matriz identidad de dos dimensiones de 3 filas y 3 columnas."
   ]
  },
  {
   "cell_type": "code",
   "execution_count": 37,
   "metadata": {},
   "outputs": [],
   "source": [
    "array4 = np.identity(3)"
   ]
  },
  {
   "cell_type": "code",
   "execution_count": 38,
   "metadata": {},
   "outputs": [
    {
     "data": {
      "text/plain": [
       "array([[1., 0., 0.],\n",
       "       [0., 1., 0.],\n",
       "       [0., 0., 1.]])"
      ]
     },
     "execution_count": 38,
     "metadata": {},
     "output_type": "execute_result"
    }
   ],
   "source": [
    "# Printeamos el array para visualizarlo:\n",
    "\n",
    "array4"
   ]
  },
  {
   "cell_type": "code",
   "execution_count": 39,
   "metadata": {},
   "outputs": [
    {
     "name": "stdout",
     "output_type": "stream",
     "text": [
      "La forma de nuestro array es (3, 3)\n",
      "El tamaño de nuestro array es 9\n",
      "La dimensión de nuestro array es 2\n",
      "El tipo de nuestro array es float64\n"
     ]
    }
   ],
   "source": [
    "# Comprobamos sus propiedades:\n",
    "\n",
    "propiedades(array4)"
   ]
  },
  {
   "cell_type": "markdown",
   "metadata": {},
   "source": [
    "3. Cread una matriz de tres dimensiones de unos.\n",
    "\n",
    "    Igual a la martiz de tres dimensiones creada en el primer ejercicio."
   ]
  },
  {
   "cell_type": "code",
   "execution_count": 40,
   "metadata": {},
   "outputs": [
    {
     "data": {
      "text/plain": [
       "array([[[0.1870011 , 0.69469713, 0.30342266, 0.10086317, 0.22851845],\n",
       "        [0.03711153, 0.542974  , 0.21811546, 0.41495   , 0.73498137],\n",
       "        [0.97924597, 0.33562436, 0.42347401, 0.739043  , 0.12434873]],\n",
       "\n",
       "       [[0.05027127, 0.02765239, 0.11226168, 0.22743971, 0.41741997],\n",
       "        [0.69271548, 0.89973294, 0.28001352, 0.15916125, 0.30037465],\n",
       "        [0.88503247, 0.03758266, 0.07171951, 0.8808234 , 0.36035452]]])"
      ]
     },
     "execution_count": 40,
     "metadata": {},
     "output_type": "execute_result"
    }
   ],
   "source": [
    "array5 = np.empty_like(array3)\n",
    "array5"
   ]
  },
  {
   "cell_type": "code",
   "execution_count": 41,
   "metadata": {},
   "outputs": [
    {
     "name": "stdout",
     "output_type": "stream",
     "text": [
      "La forma de nuestro array es (2, 3, 5)\n",
      "El tamaño de nuestro array es 30\n",
      "La dimensión de nuestro array es 3\n",
      "El tipo de nuestro array es float64\n"
     ]
    }
   ],
   "source": [
    "# Comprobamos las propiedades de nuestro array:\n",
    "\n",
    "propiedades(array3)"
   ]
  },
  {
   "cell_type": "markdown",
   "metadata": {},
   "source": [
    "4. Es el momento de hacer algunas operaciones entre arrays\n",
    "\n",
    "    ¿Se puede sumar el array de dos dimensiones que creamos en el primer ejecicios a la matriz identidad? ¿Por qué?"
   ]
  },
  {
   "cell_type": "code",
   "execution_count": 43,
   "metadata": {},
   "outputs": [
    {
     "ename": "ValueError",
     "evalue": "operands could not be broadcast together with shapes (3,2) (3,3) ",
     "output_type": "error",
     "traceback": [
      "\u001b[0;31m---------------------------------------------------------------------------\u001b[0m",
      "\u001b[0;31mValueError\u001b[0m                                Traceback (most recent call last)",
      "\u001b[0;32m/tmp/ipykernel_10822/2102809736.py\u001b[0m in \u001b[0;36m<module>\u001b[0;34m\u001b[0m\n\u001b[0;32m----> 1\u001b[0;31m \u001b[0mnp\u001b[0m\u001b[0;34m.\u001b[0m\u001b[0madd\u001b[0m\u001b[0;34m(\u001b[0m\u001b[0marray2\u001b[0m\u001b[0;34m,\u001b[0m \u001b[0marray4\u001b[0m\u001b[0;34m)\u001b[0m\u001b[0;34m\u001b[0m\u001b[0;34m\u001b[0m\u001b[0m\n\u001b[0m",
      "\u001b[0;31mValueError\u001b[0m: operands could not be broadcast together with shapes (3,2) (3,3) "
     ]
    }
   ],
   "source": [
    "np.add(array2, array4)"
   ]
  },
  {
   "cell_type": "code",
   "execution_count": null,
   "metadata": {},
   "outputs": [
    {
     "name": "stdout",
     "output_type": "stream",
     "text": [
      "No se puede porque tienen formas distintas.\n"
     ]
    }
   ],
   "source": [
    "print('No se puede porque tienen formas distintas.')"
   ]
  },
  {
   "cell_type": "code",
   "execution_count": 44,
   "metadata": {},
   "outputs": [
    {
     "name": "stdout",
     "output_type": "stream",
     "text": [
      "La forma de nuestro array es (3, 2)\n",
      "El tamaño de nuestro array es 6\n",
      "La dimensión de nuestro array es 2\n",
      "El tipo de nuestro array es float64\n"
     ]
    }
   ],
   "source": [
    "# Lo demostramos comprobando sus propiedades:\n",
    "\n",
    "propiedades(array2)"
   ]
  },
  {
   "cell_type": "code",
   "execution_count": 45,
   "metadata": {},
   "outputs": [
    {
     "name": "stdout",
     "output_type": "stream",
     "text": [
      "La forma de nuestro array es (3, 3)\n",
      "El tamaño de nuestro array es 9\n",
      "La dimensión de nuestro array es 2\n",
      "El tipo de nuestro array es float64\n"
     ]
    }
   ],
   "source": [
    "propiedades(array4)"
   ]
  },
  {
   "cell_type": "code",
   "execution_count": 46,
   "metadata": {},
   "outputs": [
    {
     "name": "stdout",
     "output_type": "stream",
     "text": [
      "El primer array tiene un tamaño de 6 y el segundo de 9\n"
     ]
    }
   ],
   "source": [
    "print(\"El primer array tiene un tamaño de 6 y el segundo de 9\")"
   ]
  },
  {
   "cell_type": "markdown",
   "metadata": {},
   "source": [
    "En caso de que no se puedan sumar, busca una solución para sumar una matriz identidad a otra."
   ]
  },
  {
   "cell_type": "code",
   "execution_count": 47,
   "metadata": {},
   "outputs": [],
   "source": [
    "\n",
    "\n",
    "# Creamos un array nuevo:\n",
    "\n",
    "array5 = np.empty_like(array2)"
   ]
  },
  {
   "cell_type": "code",
   "execution_count": 48,
   "metadata": {},
   "outputs": [
    {
     "data": {
      "text/plain": [
       "array([[0.35455657, 0.04486319],\n",
       "       [0.19961465, 0.35972282],\n",
       "       [0.01931873, 0.9110972 ]])"
      ]
     },
     "execution_count": 48,
     "metadata": {},
     "output_type": "execute_result"
    }
   ],
   "source": [
    "array5"
   ]
  },
  {
   "cell_type": "code",
   "execution_count": 49,
   "metadata": {},
   "outputs": [
    {
     "data": {
      "text/plain": [
       "array([[1.14107723, 0.37805176],\n",
       "       [0.66863794, 0.43169714],\n",
       "       [0.80745542, 1.1985805 ]])"
      ]
     },
     "execution_count": 49,
     "metadata": {},
     "output_type": "execute_result"
    }
   ],
   "source": [
    "np.add(array2, array5)\n",
    "(array2 + array5)"
   ]
  },
  {
   "cell_type": "markdown",
   "metadata": {},
   "source": [
    "Multiplicad la matriz identidad por la nueva matriz que os creasteis en el ejercicio anterior."
   ]
  },
  {
   "cell_type": "code",
   "execution_count": 50,
   "metadata": {},
   "outputs": [
    {
     "data": {
      "text/plain": [
       "array([[0.27886606, 0.0149479 ],\n",
       "       [0.09362392, 0.0258908 ],\n",
       "       [0.0152258 , 0.26192523]])"
      ]
     },
     "execution_count": 50,
     "metadata": {},
     "output_type": "execute_result"
    }
   ],
   "source": [
    "np.multiply(array2, array5)\n",
    "(array2 * array5)"
   ]
  },
  {
   "cell_type": "markdown",
   "metadata": {},
   "source": [
    "Dividid las dos matrices:"
   ]
  },
  {
   "cell_type": "code",
   "execution_count": 51,
   "metadata": {},
   "outputs": [
    {
     "data": {
      "text/plain": [
       "array([[ 2.21832208,  7.42677017],\n",
       "       [ 2.3496436 ,  0.20008272],\n",
       "       [40.79649705,  0.31553527]])"
      ]
     },
     "execution_count": 51,
     "metadata": {},
     "output_type": "execute_result"
    }
   ],
   "source": [
    "np.divide(array2, array5)\n",
    "(array2 / array5)"
   ]
  }
 ],
 "metadata": {
  "kernelspec": {
   "display_name": "Python 3.9.7 ('base')",
   "language": "python",
   "name": "python3"
  },
  "language_info": {
   "codemirror_mode": {
    "name": "ipython",
    "version": 3
   },
   "file_extension": ".py",
   "mimetype": "text/x-python",
   "name": "python",
   "nbconvert_exporter": "python",
   "pygments_lexer": "ipython3",
   "version": "3.9.7"
  },
  "orig_nbformat": 4,
  "vscode": {
   "interpreter": {
    "hash": "0620710c65b0f5ccc651a2aa8870ae0eb4c70492424a8d7866846658189426a3"
   }
  }
 },
 "nbformat": 4,
 "nbformat_minor": 2
}
