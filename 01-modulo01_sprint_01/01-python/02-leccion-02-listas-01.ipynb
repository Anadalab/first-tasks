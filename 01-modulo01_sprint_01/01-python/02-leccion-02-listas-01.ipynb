{
 "cells": [
  {
   "attachments": {},
   "cell_type": "markdown",
   "metadata": {},
   "source": [
    "# Listas I"
   ]
  },
  {
   "attachments": {},
   "cell_type": "markdown",
   "metadata": {},
   "source": [
    "En la la lección de hoy hemos aprendido una de las estructuras de datos más usadas en Python, las listas.\n",
    "\n",
    " En el ejercicio de hoy pondremos en práctica los métodos aprendidos, vuestros **objetivos** serán:"
   ]
  },
  {
   "attachments": {},
   "cell_type": "markdown",
   "metadata": {},
   "source": [
    "- Usando la función input, cread un programa que pregunte al usuario por el **nombre** de tres amig@s.\n",
    "- Almacenad los resultados del paso anterior en una lista. \n",
    "- 💡💡**Pista** Tendréis que usar métodos de los strings que aprendimos en la lección anterior.\n",
    "- Usando la función input, cread un programa que ahora le pregunte al usuario por las alturas de sus amig@s. \n",
    "- Y almacenar los resultados en una lista.\n",
    "- Esto os devolverá una lista de strings similar a esta:\n",
    "- lista_alturas = ['1.45', ' 1.67', ' 1.57']"
   ]
  },
  {
   "cell_type": "code",
   "execution_count": 22,
   "metadata": {},
   "outputs": [
    {
     "data": {
      "text/plain": [
       "['Ana', 'Maria', 'Alejandro']"
      ]
     },
     "execution_count": 22,
     "metadata": {},
     "output_type": "execute_result"
    }
   ],
   "source": [
    "tres_amigos=input('Dime el nombre de tres amigos')# Ana Maria Alejandro\n",
    "tres_amigos.split()"
   ]
  },
  {
   "cell_type": "code",
   "execution_count": 23,
   "metadata": {},
   "outputs": [],
   "source": [
    "lista_alturas = input('¿Cuánto miden tus amigos?') # 1.45 1.67 1.57\n",
    "lista_alturas = lista_alturas.split()"
   ]
  },
  {
   "attachments": {},
   "cell_type": "markdown",
   "metadata": {},
   "source": [
    "- Nos interesa que las alturas estén en tipo float para eso, ejecutad el siguiente código. \n",
    "- No es necesario que lo entendáis, es un concepto más avanzado que aprenderemos en las siguientes lecciones.\n",
    "- lista_alturas = [float(i) for i in lista_alturas]\n"
   ]
  },
  {
   "cell_type": "code",
   "execution_count": 24,
   "metadata": {},
   "outputs": [],
   "source": [
    "lista_alturas = [float(i) for i in lista_alturas]"
   ]
  },
  {
   "attachments": {},
   "cell_type": "markdown",
   "metadata": {},
   "source": [
    "Ordenad las dos listas de mayor a menor.\n",
    "- ¿Lo podréis hacer para la **lista de nombres**?\n",
    "- ¿Cuál es la altura **máxima** de todos nuestros amig@os?\n",
    "- ¿Y la **mínima**?."
   ]
  },
  {
   "cell_type": "code",
   "execution_count": 25,
   "metadata": {},
   "outputs": [
    {
     "name": "stdout",
     "output_type": "stream",
     "text": [
      "['Alejandro', 'Ana', 'Maria']\n"
     ]
    }
   ],
   "source": [
    "### con la lista nombres no podemos hacerlo por que es texto, \n",
    "# podriamos aordenarlo alfabeticamente, convirtiendolo en una lista, pero de mayor a menor no.\n",
    "lista_tresamigos_ordenada= tres_amigos.split() # divide un str en una lista\n",
    "lista_tresamigos_ordenada.sort() # ordenamos alfabeticamente\n",
    "print (lista_tresamigos_ordenada)"
   ]
  },
  {
   "cell_type": "code",
   "execution_count": 26,
   "metadata": {},
   "outputs": [
    {
     "data": {
      "text/plain": [
       "[1.67, 1.57, 1.45]"
      ]
     },
     "execution_count": 26,
     "metadata": {},
     "output_type": "execute_result"
    }
   ],
   "source": [
    "## Lo ponemos asi, porque sort lo ordena de menor a mayor y asi sale el resultado que nos piden.\n",
    "lista_alturas.sort(reverse=True)\n",
    "lista_alturas"
   ]
  },
  {
   "cell_type": "code",
   "execution_count": 27,
   "metadata": {},
   "outputs": [
    {
     "data": {
      "text/plain": [
       "1.67"
      ]
     },
     "execution_count": 27,
     "metadata": {},
     "output_type": "execute_result"
    }
   ],
   "source": [
    "lista_maxima = max(lista_alturas)\n",
    "lista_maxima"
   ]
  },
  {
   "cell_type": "code",
   "execution_count": 28,
   "metadata": {},
   "outputs": [
    {
     "data": {
      "text/plain": [
       "1.45"
      ]
     },
     "execution_count": 28,
     "metadata": {},
     "output_type": "execute_result"
    }
   ],
   "source": [
    "lista_minima= min (lista_alturas)\n",
    "lista_minima"
   ]
  },
  {
   "attachments": {},
   "cell_type": "markdown",
   "metadata": {},
   "source": [
    "Dadas las siguientes listas:\n",
    "\n",
    "- lista1 = [44, 55, 67, 44, 98, 29]\n",
    "- lista2 = [34, 56, 56, 78, 67, 56]\n",
    "\n",
    "+ Unid las dos listas de forma que consigamos el siguiente output. \n",
    "+ Almacenad los resultados en una nueva variable y llamadla lista_lista.\n",
    "\n",
    "- lista_lista = [[44, 55, 67, 44, 98, 29], [34, 56, 56, 78, 67, 56]]\n",
    "\n"
   ]
  },
  {
   "cell_type": "code",
   "execution_count": 29,
   "metadata": {},
   "outputs": [
    {
     "name": "stdout",
     "output_type": "stream",
     "text": [
      "([44, 55, 67, 44, 98, 29], [34, 56, 56, 78, 67, 56])\n"
     ]
    }
   ],
   "source": [
    "lista1 = [44, 55, 67, 44, 98, 29]\n",
    "lista2 = [34, 56, 56, 78, 67, 56]\n",
    "lista_lista = lista1,lista2\n",
    "print ( lista_lista)\n"
   ]
  },
  {
   "attachments": {},
   "cell_type": "markdown",
   "metadata": {},
   "source": [
    "Unid las dos listas de forma que consigamos el siguiente output. Almacenad los resultados en una nueva variable y llamadla lista_numeros.\n",
    "\n",
    "lista_numeros = [44, 55, 67, 44, 98, 29, 34, 56, 56, 78, 67, 56]\n",
    "\n",
    "- De la lista lista_lista, ¿cuántas veces aparece el número 67? \n",
    "- ¿y en la lista lista_numeros.\n",
    "- Justificad por qué salen números diferentes\n",
    "- Usando la lista_numeros, dadle la vuelta a la lista"
   ]
  },
  {
   "cell_type": "code",
   "execution_count": 30,
   "metadata": {},
   "outputs": [
    {
     "name": "stdout",
     "output_type": "stream",
     "text": [
      "[44, 55, 67, 44, 98, 29, 34, 56, 56, 78, 67, 56]\n"
     ]
    }
   ],
   "source": [
    "lista1 = [44, 55, 67, 44, 98, 29]\n",
    "lista2 = [34, 56, 56, 78, 67, 56]\n",
    "lista_numeros = (lista1 + lista2 )\n",
    "print ( lista_numeros)"
   ]
  },
  {
   "cell_type": "code",
   "execution_count": 31,
   "metadata": {},
   "outputs": [
    {
     "name": "stdout",
     "output_type": "stream",
     "text": [
      "0\n"
     ]
    }
   ],
   "source": [
    "print  (lista_lista.count(67))"
   ]
  },
  {
   "cell_type": "code",
   "execution_count": 32,
   "metadata": {},
   "outputs": [
    {
     "name": "stdout",
     "output_type": "stream",
     "text": [
      "2\n"
     ]
    }
   ],
   "source": [
    "print (lista_numeros. count(67))"
   ]
  },
  {
   "cell_type": "code",
   "execution_count": 33,
   "metadata": {},
   "outputs": [
    {
     "data": {
      "text/plain": [
       "[56, 67, 78, 56, 56, 34, 29, 98, 44, 67, 55, 44]"
      ]
     },
     "execution_count": 33,
     "metadata": {},
     "output_type": "execute_result"
    }
   ],
   "source": [
    "# no hacer variables para que salga bien.\n",
    "lista_numeros.reverse()\n",
    "lista_numeros"
   ]
  }
 ],
 "metadata": {
  "kernelspec": {
   "display_name": "Python 3.9.7 ('base')",
   "language": "python",
   "name": "python3"
  },
  "language_info": {
   "codemirror_mode": {
    "name": "ipython",
    "version": 3
   },
   "file_extension": ".py",
   "mimetype": "text/x-python",
   "name": "python",
   "nbconvert_exporter": "python",
   "pygments_lexer": "ipython3",
   "version": "3.9.7 (default, Sep 16 2021, 13:09:58) \n[GCC 7.5.0]"
  },
  "orig_nbformat": 4,
  "vscode": {
   "interpreter": {
    "hash": "f8e782a3a92a384869fb83a8974812ed4d4d199ed3e8c8704ecd8a7536d7fad4"
   }
  }
 },
 "nbformat": 4,
 "nbformat_minor": 2
}
