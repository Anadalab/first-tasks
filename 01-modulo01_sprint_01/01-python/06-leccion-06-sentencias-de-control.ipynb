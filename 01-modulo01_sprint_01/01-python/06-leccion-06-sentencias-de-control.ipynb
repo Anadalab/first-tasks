{
 "cells": [
  {
   "attachments": {},
   "cell_type": "markdown",
   "metadata": {},
   "source": [
    "# Sentencias de control"
   ]
  },
  {
   "attachments": {},
   "cell_type": "markdown",
   "metadata": {},
   "source": [
    "A lo largo de este pair programming os presentamos una serie de ejercicios \n",
    "\n",
    "que los tendréis que resolver usando **sentencias** if, if ... else, if ... elif ... else o while.\n",
    "\n",
    "#En la escuela donde trabajamos tienen el siguiente sistema de notas:\n",
    "- Below 25 - F\n",
    "- 25 to 45 - E\n",
    "- 45 to 50 - D\n",
    "- 50 to 60 - C\n",
    "- 60 to 80 - B\n",
    "- Above 80 - A\n",
    "\n",
    "El **objetivo** de este ejercicio es que le preguntéis al usuario por una **nota (numérica)** \n",
    "y nosotros le devolvamos la nota con la **letra** que le corresponde."
   ]
  },
  {
   "cell_type": "code",
   "execution_count": 2,
   "metadata": {},
   "outputs": [],
   "source": [
    "nota = int (input ('¿Dime es tu nota?'))"
   ]
  },
  {
   "cell_type": "code",
   "execution_count": 3,
   "metadata": {},
   "outputs": [
    {
     "name": "stdout",
     "output_type": "stream",
     "text": [
      "Has sacado una D\n"
     ]
    }
   ],
   "source": [
    "if nota < 25:\n",
    "    print('Has sacado una F')\n",
    "elif  nota >= 25 and nota < 45:\n",
    "    print('Has sacado una E')\n",
    "elif  nota >= 45 and nota < 50:\n",
    "    print('Has sacado una D')\n",
    "elif  nota >= 50 and nota < 60:\n",
    "    print('Has sacado una C')\n",
    "elif  nota >= 60 and nota < 80:\n",
    "    print('Has sacado una B')\n",
    "elif  nota >= 80:\n",
    "    print('Has sacado una A')"
   ]
  },
  {
   "attachments": {},
   "cell_type": "markdown",
   "metadata": {},
   "source": [
    "2. Cread tres inputs donde a cada uno de ellos le preguntéis su edad, \n",
    "\n",
    " el objetivo del ejercicio es determinar quien es el más **viejo** y el más **joven**."
   ]
  },
  {
   "cell_type": "code",
   "execution_count": 7,
   "metadata": {},
   "outputs": [
    {
     "name": "stdout",
     "output_type": "stream",
     "text": [
      "1 3 5\n"
     ]
    }
   ],
   "source": [
    "persona1 = ( input ('Dime tu edad, persona 1')) # 1\n",
    "persona2 = (input ('Dime tu edad, persona 2'))  # 3\n",
    "persona3 = (input ('Dime tu edad, persona 3'))  # 5\n",
    "print ( persona1, persona2, persona3)"
   ]
  },
  {
   "cell_type": "code",
   "execution_count": 10,
   "metadata": {},
   "outputs": [
    {
     "name": "stdout",
     "output_type": "stream",
     "text": [
      " Eres el mas joven persona1\n"
     ]
    }
   ],
   "source": [
    "if persona1 < persona2 and persona1 < persona3: # persona 1\n",
    "    print ( ' Eres el mas joven persona1')\n",
    "elif persona2 < persona1 and persona2 < persona3: #persona 2\n",
    "    print ( ' Eres el mas joven persona2')\n",
    "elif persona3 < persona1 and persona3 < persona2: #persona 3\n",
    "    print ( ' Eres el mas joven persona3')\n",
    "else:  \n",
    "    print(\"Nadie es el más joven 😔\")"
   ]
  },
  {
   "attachments": {},
   "cell_type": "markdown",
   "metadata": {},
   "source": [
    "3. Escribid un programa que pregunte el nombre del usuario a través de la función input(). \n",
    "- Si el nombre es \"Bond\" haced que imprima \"Bienvenido a bordo de 007\". \n",
    "- En caso contrario haced que imprima \"Buenos días NOMBRE\".\n",
    "- (Reemplace NOMBRE por el nombre del usuario)."
   ]
  },
  {
   "cell_type": "code",
   "execution_count": 18,
   "metadata": {},
   "outputs": [],
   "source": [
    "nombre = input ((\"¿cual es tu nombre?\"))"
   ]
  },
  {
   "cell_type": "code",
   "execution_count": 19,
   "metadata": {},
   "outputs": [
    {
     "name": "stdout",
     "output_type": "stream",
     "text": [
      "Bienvenido a bordo de 007\n"
     ]
    }
   ],
   "source": [
    "\n",
    "if nombre.upper() == 'BOND':\n",
    "    print ('Bienvenido a bordo de 007')\n",
    "else:\n",
    "    print ( \"Buenos días \", nombre.capitalize())"
   ]
  },
  {
   "attachments": {},
   "cell_type": "markdown",
   "metadata": {},
   "source": [
    "4. arbol es un diccionario que muestra el número de árboles de países por \n",
    "\n",
    "kilómetro cuadrado para países aleatorios con un número considerable de población. \n",
    "\n",
    "- Crea una lista llamada \"masarboles\" que contenga el nombre de los países con más de 40.000 árboles por kilómetro cuadrado.\n",
    "- tree = {\"Taiwan\": 69593, \"Japan\": 49894, \"Russia\": 41396, \"Canada\": 36388, \"Bulgaria\": 24987}"
   ]
  },
  {
   "cell_type": "code",
   "execution_count": 22,
   "metadata": {},
   "outputs": [],
   "source": [
    "tree = {\"Taiwan\": 69593,\n",
    "        \"Japan\": 49894, \n",
    "        \"Russia\": 41396, \n",
    "        \"Canada\": 36388, \n",
    "        \"Bulgaria\": 24987}"
   ]
  },
  {
   "cell_type": "code",
   "execution_count": 24,
   "metadata": {},
   "outputs": [
    {
     "name": "stdout",
     "output_type": "stream",
     "text": [
      "['Taiwan', 'Japan', 'Russia']\n"
     ]
    }
   ],
   "source": [
    "masarboles= []\n",
    "if tree['Taiwan'] > 40000:\n",
    "    masarboles.append ('Taiwan')\n",
    "if tree['Japan'] > 40000:\n",
    "    masarboles.append ('Japan')\n",
    "if tree['Russia'] > 40000:\n",
    "    masarboles.append ('Russia')\n",
    "if tree['Canada'] > 40000:\n",
    "    masarboles.append ('Canada')\n",
    "if tree['Bulgaria'] > 40000:\n",
    "    masarboles.append ('Bulgaria')\n",
    "print (masarboles)"
   ]
  },
  {
   "attachments": {},
   "cell_type": "markdown",
   "metadata": {},
   "source": [
    "- Los alumnos de un curso se han dividido en dos grupos A y B de acuerdo al sexo y el nombre. \n",
    "    - El **grupo A** esta formado por las **mujeres** con un nombre anterior a la M \n",
    "    - y los **hombres** con un nombre posterior a la N y el **grupo B** por el resto. \n",
    "- Escribid un programa que pregunte al usuario su nombre y sexo, \n",
    "- y muestre por pantalla el grupo que le corresponde."
   ]
  },
  {
   "cell_type": "code",
   "execution_count": 42,
   "metadata": {},
   "outputs": [
    {
     "name": "stdout",
     "output_type": "stream",
     "text": [
      "ANA mujer\n",
      "Grupo A\n"
     ]
    }
   ],
   "source": [
    "nombre= (input ('Dime tu nombre')).upper()\n",
    "sexo= (input ('eres hombre o mujer?')).lower()\n",
    "print(nombre,sexo)\n",
    "\n",
    "if sexo == 'mujer':\n",
    "    if nombre <= 'M':\n",
    "        print ('Grupo A')\n",
    "    else:\n",
    "        print ('Grupo B')\n",
    "elif sexo == 'hombre':\n",
    "    if nombre >= 'N':\n",
    "        print ('Grupo A') \n",
    "    else:\n",
    "        print ('Grupo B')"
   ]
  },
  {
   "attachments": {},
   "cell_type": "markdown",
   "metadata": {},
   "source": [
    "Escribid un programa que:\n",
    "\n",
    "- Dada la variable z con valor 0, es decir z = 0.\n",
    "- Mientras que el valor de z sea **menor** que 3:\n",
    "- Si el valor de z es igual a 0:\n",
    "- Printead el valor de z\n",
    "- Almancenad el valor en una lista auxiliar\n",
    "- Sumadle 1 al valor de z\n",
    "\n",
    "-----------------------------\n",
    "- Si el valor de z es igual a 1:\n",
    "- Printead el valor de z\n",
    "- Almancenad el valor en una lista auxiliar\n",
    "- Sumadle 1 al valor de z\n",
    "\n",
    "-----------------------------\n",
    "- En caso de que no se cumplan las condiciones anteriores:\n",
    "- Printead el valor de z\n",
    "- Sumadle 1 al valor de z\n",
    "\n",
    "-----------------------------"
   ]
  },
  {
   "cell_type": "code",
   "execution_count": 43,
   "metadata": {},
   "outputs": [
    {
     "name": "stdout",
     "output_type": "stream",
     "text": [
      "0\n",
      "1\n",
      "2\n"
     ]
    }
   ],
   "source": [
    "z=0\n",
    "lista_z=[]\n",
    "while z<3:\n",
    "    if z==0:\n",
    "        print(z)\n",
    "        lista_z.append(z)\n",
    "        z+=1\n",
    "    elif z==1:\n",
    "        print(z)\n",
    "        lista_z.append(z)\n",
    "        z+=1\n",
    "    else:\n",
    "        print(z)\n",
    "        z+=1"
   ]
  },
  {
   "attachments": {},
   "cell_type": "markdown",
   "metadata": {},
   "source": [
    "El objetivo de este ejercicio es añadir elementos a una lista utilizando el bucle while:\n",
    "\n",
    "- Cread una lista vacía\n",
    "- Cread una variable cuyo valor sea 0\n",
    "- Mientras que la longitud de la lista creada en el primer paso sea menor que 4:\n",
    "- Apendead el valor de la variable creada en el paso 2\n",
    "- Sumad 1 a la variable creada en el paso 2\n",
    "- Por último, printead los valores que hemos añadido en la lista vacía (ya no lo estaría)\n"
   ]
  },
  {
   "cell_type": "code",
   "execution_count": 19,
   "metadata": {},
   "outputs": [
    {
     "name": "stdout",
     "output_type": "stream",
     "text": [
      "[0, 1, 2, 3]\n"
     ]
    }
   ],
   "source": [
    "lista_vacia=[]\n",
    "e=0\n",
    "while len(lista_vacia) <4:\n",
    "        lista_vacia.append(e)\n",
    "        e+=1\n",
    "print(lista_vacia)\n",
    "#si queremos que se printee cada vez que hace el bucle, tendriamos que indentar el print"
   ]
  },
  {
   "attachments": {},
   "cell_type": "markdown",
   "metadata": {},
   "source": [
    "El objetivo de este ejercicio es encontrar la suma de números en una lista usando el bucle while:\n",
    "- Cread una variable cuyo valor sea 0, llamadla \"i\"\n",
    "- Cread una lista que contenga los siguientes números: 23,45,12,10,25\n",
    "- Cread una variable cuyo valor sea 0, llamadla \"suma\"\n",
    "- Mientras que el valor de la variable \"i\" sea menor que la longitud de la lista:\n",
    "- Sumad elemento a elemento los valores de la lista. Es decir, el primero con el segundo; el resultado de la suma anterior más el tercer número, etc\n",
    "- Sumad 1 a la variable \"i\" por cada iteración por el bucle while\n",
    "- El resultado esperado es 115."
   ]
  },
  {
   "cell_type": "code",
   "execution_count": 45,
   "metadata": {},
   "outputs": [
    {
     "name": "stdout",
     "output_type": "stream",
     "text": [
      "115\n"
     ]
    }
   ],
   "source": [
    "i=0\n",
    "lista_siguiente=[23,45,12,10,25]\n",
    "suma=0\n",
    "while i<len(lista_siguiente):\n",
    "    suma += lista_siguiente[i]\n",
    "    i+=1\n",
    "print(suma)"
   ]
  },
  {
   "attachments": {},
   "cell_type": "markdown",
   "metadata": {},
   "source": [
    "Escribid un programa para una **empresa** que tiene salas de juegos para todas las edades \n",
    "y quiere calcular de forma automática el **precio** que debe cobrar a sus clientes por entrar. \n",
    "\n",
    "El programa debe preguntar al **usuario** la **edad** del cliente y mostrar el **precio** de la entrada. \n",
    "Si el cliente es **menor de 4 años** puede entrar **gratis**, si tiene ***entre 4 y 18 años** debe pagar 5€ \n",
    "y si es **mayor de 18 años**, 10€."
   ]
  },
  {
   "cell_type": "code",
   "execution_count": 46,
   "metadata": {},
   "outputs": [
    {
     "data": {
      "text/plain": [
       "5"
      ]
     },
     "execution_count": 46,
     "metadata": {},
     "output_type": "execute_result"
    }
   ],
   "source": [
    "edad=int(input('¿qué edad tienes?'))\n",
    "edad"
   ]
  },
  {
   "cell_type": "code",
   "execution_count": 47,
   "metadata": {},
   "outputs": [
    {
     "name": "stdout",
     "output_type": "stream",
     "text": [
      "Debes pagar 5€\n"
     ]
    }
   ],
   "source": [
    "if edad <4:\n",
    "    print('Puedes entrar gratis')\n",
    "elif edad>=4 and edad<=18:\n",
    "    print('Debes pagar 5€')\n",
    "else:\n",
    "    print('Debes pagar 10 €')"
   ]
  },
  {
   "attachments": {},
   "cell_type": "markdown",
   "metadata": {},
   "source": [
    "La pizzería Bella Napoli ofrece pizzas vegetarianas y no vegetarianas a sus clientes. \n",
    "Los ingredientes para cada tipo de pizza aparecen a continuación.\n",
    "    - Ingredientes **vegetarianos**: Pimiento y tofu.\n",
    "    - Ingredientes **no vegetarianos**: Peperoni, Jamón y Salmón.\n",
    "\n",
    "- Escribid un programa que pregunte al usuario si quiere una pizza vegetariana o no, \n",
    "y en función de su respuesta le muestre un menú con los ingredientes disponibles para que elija. \n",
    "\n",
    "Solo se puede eligir un ingrediente además de **la mozzarella y el tomate** que están en todas la pizzas. \n",
    "- Al final se debe mostrar por pantalla si la pizza elegida es vegetariana o no y todos los ingredientes que lleva."
   ]
  },
  {
   "cell_type": "code",
   "execution_count": null,
   "metadata": {},
   "outputs": [],
   "source": []
  },
  {
   "cell_type": "code",
   "execution_count": 50,
   "metadata": {},
   "outputs": [
    {
     "name": "stdout",
     "output_type": "stream",
     "text": [
      "Has elegido una pizza vegetariana con tomate,mozzarella y tofu\n"
     ]
    }
   ],
   "source": [
    "tipo_pizza=input('Elige una pizza vegetariana o no vegetariana').lower()\n",
    "ingrend=['tomate,mozzarella y']\n",
    "\n",
    "if tipo_pizza=='vegetariana':\n",
    "    ingrend_veg=input('prefieres pimiento o tofu').lower()\n",
    "    if ingrend_veg=='pimiento':\n",
    "        ingrend.append('pimiento')\n",
    "    elif ingrend_veg=='tofu':\n",
    "        ingrend.append('tofu')\n",
    "else:\n",
    "    ingrend_carne=input('prefieres pepperoni, jamón o salmón').lower()\n",
    "    if ingrend_carne=='pepperoni':\n",
    "        ingrend.append('peperoni')\n",
    "    elif ingrend_carne=='jamón':\n",
    "        ingrend.append('jamón')\n",
    "    elif ingrend_carne=='salmón':\n",
    "        ingrend.append('salmón')\n",
    "print('Has elegido una pizza', tipo_pizza, 'con',' '.join(ingrend) )"
   ]
  },
  {
   "cell_type": "code",
   "execution_count": 51,
   "metadata": {},
   "outputs": [
    {
     "name": "stdout",
     "output_type": "stream",
     "text": [
      "Pizza vegetariana: Tomate, Mozzarella, Pimiento\n"
     ]
    }
   ],
   "source": [
    "# una manera diferente seria : \n",
    "# Según la pizza elegida vegetariana o no vegetariana, preguntar por el ingrediente extra y printear el tipo de pizza y sus ingredientes\n",
    "pizza = input ('¿Vegetariana o No Vegetariana?').capitalize()\n",
    "vegetariana = ['Pimiento', 'Tofu']\n",
    "no_vegetariana = ['Pepperoni', 'Jamon', 'Salmon']\n",
    "\n",
    "# Según el tipo de pizza creamos un nuevo input dentro del if para preguntar por el ingrediente extra y luego printea el tipo de pizza con Tomate, Mozzarella y el ingrediente elegido\n",
    "if pizza == 'Vegetariana':\n",
    "    ingrediente_veg = input ('¿Pimiento o Tofu?').capitalize()\n",
    "    print ('Pizza vegetariana: Tomate, Mozzarella,', ingrediente_veg)\n",
    "else:\n",
    "    ingrediente_noveg = input ('¿Pepperoni, Jamón, o Salmón?').capitalize()\n",
    "    print ('Pizza no vegetariana: Tomate, Mozzarella,', ingrediente_noveg)"
   ]
  }
 ],
 "metadata": {
  "kernelspec": {
   "display_name": "Python 3.9.7 ('base')",
   "language": "python",
   "name": "python3"
  },
  "language_info": {
   "codemirror_mode": {
    "name": "ipython",
    "version": 3
   },
   "file_extension": ".py",
   "mimetype": "text/x-python",
   "name": "python",
   "nbconvert_exporter": "python",
   "pygments_lexer": "ipython3",
   "version": "3.9.7"
  },
  "orig_nbformat": 4,
  "vscode": {
   "interpreter": {
    "hash": "f8e782a3a92a384869fb83a8974812ed4d4d199ed3e8c8704ecd8a7536d7fad4"
   }
  }
 },
 "nbformat": 4,
 "nbformat_minor": 2
}
