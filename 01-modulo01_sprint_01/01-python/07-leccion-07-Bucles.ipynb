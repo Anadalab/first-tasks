{
 "cells": [
  {
   "attachments": {},
   "cell_type": "markdown",
   "metadata": {},
   "source": [
    "# Bucles for"
   ]
  },
  {
   "attachments": {},
   "cell_type": "markdown",
   "metadata": {},
   "source": [
    "En este ejercicios de pair programming podremos en práctica los bucles for a través de múltiples ejercicios:\n",
    "1. Escribid un programa que pregunte al usuario una cantidad a invertir, el interés anual y el número de años, \n",
    "muestre por pantalla el capital obtenido en la inversión cada año que dura la inversión."
   ]
  },
  {
   "cell_type": "code",
   "execution_count": 11,
   "metadata": {},
   "outputs": [
    {
     "name": "stdout",
     "output_type": "stream",
     "text": [
      " La cantidad que vas a invertir es : 6000,el interes anual que quieres conseguir es del 5% y los años que durará la inversion serán 10\n",
      "Este año has obtenido un capital de 9773.367760664649\n"
     ]
    }
   ],
   "source": [
    "cantidad= int(input('Qué cantidad quieres invertir?'))\n",
    "interes= int(input ('qQué interes anual quieres conseguir?'))\n",
    "años= int(input ('Para cuántos años quieres la inversion?'))\n",
    "print ( f' La cantidad que vas a invertir es : {cantidad},el interes anual que quieres conseguir es del {interes}% y los años que durará la inversion serán {años}' )\n",
    "for num in range (0,años):\n",
    "    renta =((cantidad * interes) /100)\n",
    "    cantidad+=renta\n",
    "print ('Este año has obtenido un capital de', cantidad )"
   ]
  },
  {
   "attachments": {},
   "cell_type": "markdown",
   "metadata": {},
   "source": [
    "2. Escribid un programa en el que se pregunte al usuario por una frase y una letra, \n",
    "y muestre por pantalla el número de veces que aparece la letra en la frase."
   ]
  },
  {
   "cell_type": "code",
   "execution_count": 16,
   "metadata": {},
   "outputs": [
    {
     "name": "stdout",
     "output_type": "stream",
     "text": [
      " La frase que has elegido es: buenos dias, ¿ como te encuentras hoy? y la letra elegida de tu frase es e\n",
      " la frase buenos dias, ¿ como te encuentras hoy? contiene 4 la letra e\n"
     ]
    }
   ],
   "source": [
    "frase =input ('Dinos una frase').lower() # Buenos Dias, ¿ como te encuentras hoy?\n",
    "letra=input ('Selecciona una letra de tu frase').lower() # e\n",
    "print ( f' La frase que has elegido es: {frase} y la letra elegida de tu frase es {letra}' )\n",
    "for x in frase:\n",
    "    frase.count(letra)\n",
    "print (f' la frase {frase} contiene {frase.count(letra)} veces la letra {letra}')"
   ]
  },
  {
   "attachments": {},
   "cell_type": "markdown",
   "metadata": {},
   "source": [
    "3. Escribid un programa que nos devuelva la tabla de multiplicar \n",
    "de un número especificado en una función input"
   ]
  },
  {
   "cell_type": "code",
   "execution_count": 18,
   "metadata": {},
   "outputs": [
    {
     "name": "stdout",
     "output_type": "stream",
     "text": [
      " La tabla de multiplicar del 5 es:  0\n",
      " La tabla de multiplicar del 5 es:  5\n",
      " La tabla de multiplicar del 5 es:  10\n",
      " La tabla de multiplicar del 5 es:  15\n",
      " La tabla de multiplicar del 5 es:  20\n",
      " La tabla de multiplicar del 5 es:  25\n",
      " La tabla de multiplicar del 5 es:  30\n",
      " La tabla de multiplicar del 5 es:  35\n",
      " La tabla de multiplicar del 5 es:  40\n",
      " La tabla de multiplicar del 5 es:  45\n",
      " La tabla de multiplicar del 5 es:  50\n"
     ]
    }
   ],
   "source": [
    "numero= input ('Dinos el número que quieres multiplicar') # 5\n",
    "for c in range (0,11):\n",
    "    resultado = c*int(numero)\n",
    "    print(f' La tabla de multiplicar del {numero} es:  {resultado}')   "
   ]
  },
  {
   "attachments": {},
   "cell_type": "markdown",
   "metadata": {},
   "source": [
    "4. Dada la siguiente lista de números: \n",
    "- numbers = [12, 75, 150, 180, 145, 525, 50]\n",
    "- Escribid un programa que muestre sólo los números de una lista que cumplan las siguientes condiciones\n",
    "- El número debe ser divisible entre cinco\n",
    "- Si el número es mayor que 150, se salta y se pasa al siguiente número\n",
    "- Si el número es mayor que 500, entonces detenga el bucle\n"
   ]
  },
  {
   "cell_type": "code",
   "execution_count": 19,
   "metadata": {},
   "outputs": [
    {
     "data": {
      "text/plain": [
       "[75, 150, 145]"
      ]
     },
     "execution_count": 19,
     "metadata": {},
     "output_type": "execute_result"
    }
   ],
   "source": [
    "numbers = [12, 75, 150, 180, 145, 525, 50]\n",
    "lista_numeros= []\n",
    "for num in numbers:\n",
    "    if num <= 150 and num % 5 == 0:\n",
    "        lista_numeros.append(num)\n",
    "        pass\n",
    "    if num > 500:\n",
    "            break\n",
    "lista_numeros"
   ]
  },
  {
   "attachments": {},
   "cell_type": "markdown",
   "metadata": {},
   "source": [
    "5. Dada la siguiente lista:\n",
    "- list1 = [10, 20, 30, 40, 50]\n",
    "- Imprimir la lista en orden inverso"
   ]
  },
  {
   "cell_type": "code",
   "execution_count": 7,
   "metadata": {},
   "outputs": [],
   "source": [
    "list1 = [10, 20, 30, 40, 50]"
   ]
  },
  {
   "cell_type": "code",
   "execution_count": 8,
   "metadata": {},
   "outputs": [
    {
     "data": {
      "text/plain": [
       "[50, 40, 30, 20, 10]"
      ]
     },
     "execution_count": 8,
     "metadata": {},
     "output_type": "execute_result"
    }
   ],
   "source": [
    "for i in list1:\n",
    "    list1.sort(reverse=True)\n",
    "list1"
   ]
  },
  {
   "attachments": {},
   "cell_type": "markdown",
   "metadata": {},
   "source": [
    "6. Dado el siguiente código\n",
    "    - for i in ['1','2','3']:\n",
    "    - print (i**2)\n",
    "- Usando un try ... except, cread un programa para evitar que nos de un error el código anterior. \n",
    "- En su lugar, si se encuentra un error, deberéis poner el código necesario para que no nos devuelva error. \n"
   ]
  },
  {
   "cell_type": "code",
   "execution_count": 9,
   "metadata": {},
   "outputs": [
    {
     "name": "stdout",
     "output_type": "stream",
     "text": [
      "1\n",
      "4\n",
      "9\n"
     ]
    }
   ],
   "source": [
    "for p in ['1','2','3']:\n",
    "    try : \n",
    "        print( int(p)**2)\n",
    "    except :\n",
    "        print(' Error')\n",
    "        \n",
    "####otra opción es que en lugar del error de un mensaje alternativo\n",
    "#   for i in ['1','2','3']:\n",
    "#   try:\n",
    "#       print (i**2)\n",
    "#   except:\n",
    "#      print('estas intentando multiplicar un numero por un texto')\n",
    "#       print( int(p)**2)"
   ]
  }
 ],
 "metadata": {
  "kernelspec": {
   "display_name": "Python 3.9.7 ('base')",
   "language": "python",
   "name": "python3"
  },
  "language_info": {
   "codemirror_mode": {
    "name": "ipython",
    "version": 3
   },
   "file_extension": ".py",
   "mimetype": "text/x-python",
   "name": "python",
   "nbconvert_exporter": "python",
   "pygments_lexer": "ipython3",
   "version": "3.9.7"
  },
  "orig_nbformat": 4,
  "vscode": {
   "interpreter": {
    "hash": "f8e782a3a92a384869fb83a8974812ed4d4d199ed3e8c8704ecd8a7536d7fad4"
   }
  }
 },
 "nbformat": 4,
 "nbformat_minor": 2
}
