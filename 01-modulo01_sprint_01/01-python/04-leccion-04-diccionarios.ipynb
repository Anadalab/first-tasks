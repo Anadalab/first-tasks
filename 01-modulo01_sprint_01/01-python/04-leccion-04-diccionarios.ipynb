{
 "cells": [
  {
   "attachments": {},
   "cell_type": "markdown",
   "metadata": {},
   "source": [
    "# Diccionarios"
   ]
  },
  {
   "attachments": {},
   "cell_type": "markdown",
   "metadata": {},
   "source": [
    "En el pair programming de hoy trabajaremos con diccionarios. \n",
    "\n",
    "El objetivo es poner en práctica todos los métodos aprendidos hasta el momento. \n",
    "\n",
    "Para ello lo primero que haremos será contruir un diccionario paso a paso. Nuestro diccionario estará compuesto por:\n",
    "\n",
    "Cuatro keys que serán:\n",
    "- nombres\n",
    "- apellidos\n",
    "- edades\n",
    "- hijos\n",
    "\n",
    "Cada una de las keys tendrá un value que será una lista que iremos construyendo con inputs. \n",
    "\n",
    "Para crear los values seguid los pasos que os indicamos a continuación."
   ]
  },
  {
   "attachments": {},
   "cell_type": "markdown",
   "metadata": {},
   "source": [
    "Cread un input que pregunte a la usuaria por tres nombres. Almacenad el resultado en una lista. \n",
    "- Esta lista será el value de la key nombres"
   ]
  },
  {
   "cell_type": "code",
   "execution_count": 1,
   "metadata": {},
   "outputs": [
    {
     "name": "stdout",
     "output_type": "stream",
     "text": [
      "Lara Alejandro Ana\n",
      "['Lara', 'Alejandro', 'Ana']\n"
     ]
    }
   ],
   "source": [
    "#hay que hacer un diccionario de nombres, apellidos, edades e hijos en base a lo que nos digan los inputs-\n",
    "#1.pedidmos los nombres\n",
    "lista_nombres = input(' Dime tres nombres') #Lara Alejandro Ana\n",
    "print( lista_nombres)\n",
    "# como es un str, lo tenemos q convertir a list y almacenarlo. Asi con todas las keys nombre, apellidos, edades, hijos.\n",
    "lista_nombres2 = lista_nombres.split()\n",
    "print (lista_nombres2)"
   ]
  },
  {
   "attachments": {},
   "cell_type": "markdown",
   "metadata": {},
   "source": [
    "Cread un input que pregunte a la usuaria por tres **apellidos**. \n",
    "- Convertir el resultado en lista y este será el value de la key apellidos."
   ]
  },
  {
   "cell_type": "code",
   "execution_count": 2,
   "metadata": {},
   "outputs": [
    {
     "name": "stdout",
     "output_type": "stream",
     "text": [
      "['Lopez', 'Martin', 'Solo']\n"
     ]
    }
   ],
   "source": [
    "#2.pedimos los apellidos\n",
    "lista_apellidos = input( 'Dime tres apellidos') #Lopez Martin Solo\n",
    "lista_apellidos2= lista_apellidos.split()\n",
    "print (lista_apellidos2)"
   ]
  },
  {
   "attachments": {},
   "cell_type": "markdown",
   "metadata": {},
   "source": [
    "Cread un input que pregunte a la usuaria por **tres edades**. \n",
    "- Almancenad los resultados en una lista. Esta lista será el value de la key edades."
   ]
  },
  {
   "cell_type": "code",
   "execution_count": 3,
   "metadata": {},
   "outputs": [
    {
     "name": "stdout",
     "output_type": "stream",
     "text": [
      "['34', '20', '28']\n"
     ]
    },
    {
     "data": {
      "text/plain": [
       "list"
      ]
     },
     "execution_count": 3,
     "metadata": {},
     "output_type": "execute_result"
    }
   ],
   "source": [
    "#3.pedimos las edades\n",
    "lista_edades = input('Dime tres edades') #34 20 28\n",
    "lista_edades2=lista_edades.split()\n",
    "print ( lista_edades2)\n",
    "type(lista_edades2)\n"
   ]
  },
  {
   "cell_type": "code",
   "execution_count": 18,
   "metadata": {},
   "outputs": [
    {
     "name": "stdout",
     "output_type": "stream",
     "text": [
      "[34, 20, 28]\n"
     ]
    },
    {
     "data": {
      "text/plain": [
       "list"
      ]
     },
     "execution_count": 18,
     "metadata": {},
     "output_type": "execute_result"
    }
   ],
   "source": [
    "#tenemos una lista con tres strings y el ejercicio nos pide una lista con 3 int, por lo que debemos convertir cada str en integer mediante indices\n",
    "#y lo mismo con la lista de hijos # 1 2 5 \n",
    "lista_edades2[0] = int(lista_edades2[0])\n",
    "lista_edades2[1] = int(lista_edades2[1])  \n",
    "lista_edades2[2] = int(lista_edades2[2])\n",
    "print (lista_edades2)\n",
    "type(lista_edades2)"
   ]
  },
  {
   "attachments": {},
   "cell_type": "markdown",
   "metadata": {},
   "source": [
    "Cread un input que pregunte a la usuaria por el **número de hijos**. \n",
    "- Almacenad este resultado en una lista. Esta lista será el value de la key hijos."
   ]
  },
  {
   "cell_type": "code",
   "execution_count": 19,
   "metadata": {},
   "outputs": [
    {
     "name": "stdout",
     "output_type": "stream",
     "text": [
      "['1', '2', '5']\n",
      "[1, 2, 5]\n"
     ]
    }
   ],
   "source": [
    "#como tenemos una lista con tres strings y el ejercicio nos pide una lista con 3 int, \n",
    "# por lo que debemos convertir cada str en integer mediante indices\n",
    "lista_hijos = input('Cuantos hijos tienes') # 1 2 5\n",
    "lista_hijos2=lista_hijos.split()\n",
    "print ( lista_hijos2)\n",
    "lista_hijos2 [0] = int (lista_hijos2 [0])\n",
    "lista_hijos2 [1] = int (lista_hijos2 [1])\n",
    "lista_hijos2 [2] = int (lista_hijos2 [2])\n",
    "print (lista_hijos2)"
   ]
  },
  {
   "cell_type": "code",
   "execution_count": 20,
   "metadata": {},
   "outputs": [
    {
     "data": {
      "text/plain": [
       "{'Nombres': ['Lara', 'Alejandro', 'Ana'],\n",
       " 'Apellidos': ['Lopez', 'Martin', 'Solo'],\n",
       " 'Edades': [34, 20, 28],\n",
       " 'Hijos': [1, 2, 5]}"
      ]
     },
     "execution_count": 20,
     "metadata": {},
     "output_type": "execute_result"
    }
   ],
   "source": [
    "#hacemos un diccionario con todos los valores que tenemos\n",
    "diccionario1 = {'Nombres': lista_nombres2, 'Apellidos' : lista_apellidos2, 'Edades': lista_edades2, 'Hijos': lista_hijos2}\n",
    "diccionario1"
   ]
  },
  {
   "attachments": {},
   "cell_type": "markdown",
   "metadata": {},
   "source": [
    "Una vez tengáis creado el diccionario, añadid una nueva key donde tengamos la información sobre el **número de hermanos**."
   ]
  },
  {
   "cell_type": "code",
   "execution_count": 21,
   "metadata": {},
   "outputs": [
    {
     "name": "stdout",
     "output_type": "stream",
     "text": [
      "{'Nombres': ['Lara', 'Alejandro', 'Ana'], 'Apellidos': ['Lopez', 'Martin', 'Solo'], 'Edades': [34, 20, 28], 'Hijos': [1, 2, 5], 'Hermanos': [2, 3, 3]}\n"
     ]
    }
   ],
   "source": [
    "#añadimos una nueva key sobre el nº de hermanos\n",
    "diccionario1 ['Hermanos'] = [2,3,3]\n",
    "print ( diccionario1)"
   ]
  },
  {
   "attachments": {},
   "cell_type": "markdown",
   "metadata": {},
   "source": [
    "- ¿Cúales son las keys de nuestro diccionario? ¿Y los values?"
   ]
  },
  {
   "cell_type": "code",
   "execution_count": 22,
   "metadata": {},
   "outputs": [
    {
     "data": {
      "text/plain": [
       "dict_keys(['Nombres', 'Apellidos', 'Edades', 'Hijos', 'Hermanos'])"
      ]
     },
     "execution_count": 22,
     "metadata": {},
     "output_type": "execute_result"
    }
   ],
   "source": [
    "#sacamos las keys del diccionario \n",
    "diccionario1. keys()"
   ]
  },
  {
   "cell_type": "code",
   "execution_count": 23,
   "metadata": {},
   "outputs": [
    {
     "data": {
      "text/plain": [
       "dict_values([['Lara', 'Alejandro', 'Ana'], ['Lopez', 'Martin', 'Solo'], [34, 20, 28], [1, 2, 5], [2, 3, 3]])"
      ]
     },
     "execution_count": 23,
     "metadata": {},
     "output_type": "execute_result"
    }
   ],
   "source": [
    "#sacamos los values del diccionario \n",
    "diccionario1.values()"
   ]
  },
  {
   "attachments": {},
   "cell_type": "markdown",
   "metadata": {},
   "source": [
    "- Para **extraer los values** de una **key** podemos hacerlo de varias formas.\n",
    "- Extraed los valores de la key nombres. Utilizad dos métodos diferentes."
   ]
  },
  {
   "cell_type": "code",
   "execution_count": 24,
   "metadata": {},
   "outputs": [
    {
     "data": {
      "text/plain": [
       "['Lara', 'Alejandro', 'Ana']"
      ]
     },
     "execution_count": 24,
     "metadata": {},
     "output_type": "execute_result"
    }
   ],
   "source": [
    "#sacamos los values de la key nombre con dos metodos distintos\n",
    "# utilizamos el index con [] y el get\n",
    "diccionario1 ['Nombres']\n",
    "diccionario1.get('Nombres')"
   ]
  },
  {
   "attachments": {},
   "cell_type": "markdown",
   "metadata": {},
   "source": [
    "- Extraed los valores de la key **nacionalidad**. En caso de que no exista, cread esa key con el value \"desconocida\".\n",
    "- Ordena los elementos del diccionario basandonos en las keys y los values. "
   ]
  },
  {
   "cell_type": "code",
   "execution_count": 25,
   "metadata": {},
   "outputs": [
    {
     "name": "stdout",
     "output_type": "stream",
     "text": [
      "{'Nombres': ['Lara', 'Alejandro', 'Ana'], 'Apellidos': ['Lopez', 'Martin', 'Solo'], 'Edades': [34, 20, 28], 'Hijos': [1, 2, 5], 'Hermanos': [2, 3, 3], 'Nacionalidad': ['desconocida']}\n"
     ]
    }
   ],
   "source": [
    "# creamos la key Nacionalidad porque no existe \n",
    "diccionario1['Nacionalidad']= ['desconocida']\n",
    "print (diccionario1)"
   ]
  },
  {
   "cell_type": "code",
   "execution_count": 26,
   "metadata": {},
   "outputs": [
    {
     "name": "stdout",
     "output_type": "stream",
     "text": [
      "[('Apellidos', ['Lopez', 'Martin', 'Solo']), ('Edades', [34, 20, 28]), ('Hermanos', [2, 3, 3]), ('Hijos', [1, 2, 5]), ('Nacionalidad', ['desconocida']), ('Nombres', ['Lara', 'Alejandro', 'Ana'])]\n"
     ]
    }
   ],
   "source": [
    "#ordenamos los elementos del diccionario y se genera una lista de tuplas\n",
    "diccionario2 = sorted(diccionario1.items())\n",
    "print ( diccionario2)"
   ]
  },
  {
   "attachments": {},
   "cell_type": "markdown",
   "metadata": {},
   "source": [
    "- Esto nos devuelve una lista de tuplas(todavía no hemos visto este tipo de datos, pero lo veremos en la lección de mañana). \n",
    "    - Convertid esta lista de tuplas en diccionario."
   ]
  },
  {
   "cell_type": "code",
   "execution_count": 27,
   "metadata": {},
   "outputs": [
    {
     "name": "stdout",
     "output_type": "stream",
     "text": [
      "{'Apellidos': ['Lopez', 'Martin', 'Solo'], 'Edades': [34, 20, 28], 'Hermanos': [2, 3, 3], 'Hijos': [1, 2, 5], 'Nacionalidad': ['desconocida'], 'Nombres': ['Lara', 'Alejandro', 'Ana']}\n"
     ]
    },
    {
     "data": {
      "text/plain": [
       "dict"
      ]
     },
     "execution_count": 27,
     "metadata": {},
     "output_type": "execute_result"
    }
   ],
   "source": [
    "#convertimos la lista de tuplas en diccionario\n",
    "diccionario3 = dict(diccionario2)\n",
    "print(diccionario3)\n",
    "type(diccionario3)"
   ]
  },
  {
   "attachments": {},
   "cell_type": "markdown",
   "metadata": {},
   "source": [
    "- Eliminad la key de \"nacionalidad\""
   ]
  },
  {
   "cell_type": "code",
   "execution_count": 28,
   "metadata": {},
   "outputs": [
    {
     "data": {
      "text/plain": [
       "{'Apellidos': ['Lopez', 'Martin', 'Solo'],\n",
       " 'Edades': [34, 20, 28],\n",
       " 'Hermanos': [2, 3, 3],\n",
       " 'Hijos': [1, 2, 5],\n",
       " 'Nombres': ['Lara', 'Alejandro', 'Ana']}"
      ]
     },
     "execution_count": 28,
     "metadata": {},
     "output_type": "execute_result"
    }
   ],
   "source": [
    "# eliminamos la key nacionalidad\n",
    "diccionario3.pop ('Nacionalidad')\n",
    "diccionario3"
   ]
  },
  {
   "attachments": {},
   "cell_type": "markdown",
   "metadata": {},
   "source": [
    "- Utilizando métodos de Python.\n",
    "-  ¿Qué persona tiene mayor número de hijos? \n",
    "- ¿Y quién es la más joven?"
   ]
  },
  {
   "cell_type": "code",
   "execution_count": 29,
   "metadata": {},
   "outputs": [
    {
     "data": {
      "text/plain": [
       "[1, 2, 5]"
      ]
     },
     "execution_count": 29,
     "metadata": {},
     "output_type": "execute_result"
    }
   ],
   "source": [
    "#para saber quien tiene mas hijos, sacamos los values de hijos y comprobamos cual es el mayor.\n",
    "diccionario3['Hijos']"
   ]
  },
  {
   "cell_type": "code",
   "execution_count": 30,
   "metadata": {},
   "outputs": [
    {
     "data": {
      "text/plain": [
       "'Ana'"
      ]
     },
     "execution_count": 30,
     "metadata": {},
     "output_type": "execute_result"
    }
   ],
   "source": [
    "# y ahora sacamos el nombre de la persona que corresponde a este indice.\n",
    "diccionario3['Nombres'][2]"
   ]
  },
  {
   "cell_type": "code",
   "execution_count": 31,
   "metadata": {},
   "outputs": [
    {
     "data": {
      "text/plain": [
       "[34, 20, 28]"
      ]
     },
     "execution_count": 31,
     "metadata": {},
     "output_type": "execute_result"
    }
   ],
   "source": [
    "#y repetimos el proceso para las edades para saber quien es el mas joven\n",
    "diccionario3['Edades']"
   ]
  },
  {
   "cell_type": "code",
   "execution_count": 32,
   "metadata": {},
   "outputs": [
    {
     "data": {
      "text/plain": [
       "'Alejandro'"
      ]
     },
     "execution_count": 32,
     "metadata": {},
     "output_type": "execute_result"
    }
   ],
   "source": [
    "diccionario3['Nombres'][1]"
   ]
  },
  {
   "cell_type": "code",
   "execution_count": 33,
   "metadata": {},
   "outputs": [],
   "source": [
    "#otra opcion para averiguar quien es el que mas hijos tiene y el mas joven, es sacando el max y el min de cada categoria (hijos y edades)"
   ]
  },
  {
   "cell_type": "code",
   "execution_count": 34,
   "metadata": {},
   "outputs": [
    {
     "data": {
      "text/plain": [
       "5"
      ]
     },
     "execution_count": 34,
     "metadata": {},
     "output_type": "execute_result"
    }
   ],
   "source": [
    "#Sacamos de la lista el numero mas alto, para saber quien es el que tiene mas hijos\n",
    "max(lista_hijos2)"
   ]
  },
  {
   "cell_type": "code",
   "execution_count": 41,
   "metadata": {},
   "outputs": [
    {
     "data": {
      "text/plain": [
       "2"
      ]
     },
     "execution_count": 41,
     "metadata": {},
     "output_type": "execute_result"
    }
   ],
   "source": [
    "# el metodo index nos dice la posicion de la persona que tiene el mayor numero de hijos\n",
    "lista_hijos2.index(5)"
   ]
  },
  {
   "cell_type": "code",
   "execution_count": 42,
   "metadata": {},
   "outputs": [
    {
     "data": {
      "text/plain": [
       "'Ana'"
      ]
     },
     "execution_count": 42,
     "metadata": {},
     "output_type": "execute_result"
    }
   ],
   "source": [
    "#sabiendo la posición, la buscamos en los nombres\n",
    "lista_nombres2[2]"
   ]
  },
  {
   "attachments": {},
   "cell_type": "markdown",
   "metadata": {},
   "source": [
    "Edades"
   ]
  },
  {
   "cell_type": "code",
   "execution_count": 37,
   "metadata": {},
   "outputs": [
    {
     "data": {
      "text/plain": [
       "20"
      ]
     },
     "execution_count": 37,
     "metadata": {},
     "output_type": "execute_result"
    }
   ],
   "source": [
    "#buscamos el minimo para sacar la persona mas joven\n",
    "min(lista_edades2)"
   ]
  },
  {
   "cell_type": "code",
   "execution_count": 38,
   "metadata": {},
   "outputs": [
    {
     "data": {
      "text/plain": [
       "1"
      ]
     },
     "execution_count": 38,
     "metadata": {},
     "output_type": "execute_result"
    }
   ],
   "source": [
    "# buscamos la posicion que ocupa en la lista de edades \n",
    "lista_edades2.index(20)"
   ]
  },
  {
   "cell_type": "code",
   "execution_count": 39,
   "metadata": {},
   "outputs": [
    {
     "data": {
      "text/plain": [
       "'Alejandro'"
      ]
     },
     "execution_count": 39,
     "metadata": {},
     "output_type": "execute_result"
    }
   ],
   "source": [
    "#sabiendo la posicion, la buscamos en nombres\n",
    "lista_nombres2[1]"
   ]
  }
 ],
 "metadata": {
  "kernelspec": {
   "display_name": "Python 3.9.7 ('base')",
   "language": "python",
   "name": "python3"
  },
  "language_info": {
   "codemirror_mode": {
    "name": "ipython",
    "version": 3
   },
   "file_extension": ".py",
   "mimetype": "text/x-python",
   "name": "python",
   "nbconvert_exporter": "python",
   "pygments_lexer": "ipython3",
   "version": "3.9.7"
  },
  "orig_nbformat": 4,
  "vscode": {
   "interpreter": {
    "hash": "f8e782a3a92a384869fb83a8974812ed4d4d199ed3e8c8704ecd8a7536d7fad4"
   }
  }
 },
 "nbformat": 4,
 "nbformat_minor": 2
}
